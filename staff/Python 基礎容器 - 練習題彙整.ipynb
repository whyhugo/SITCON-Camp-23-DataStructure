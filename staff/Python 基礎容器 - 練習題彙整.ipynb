{
 "cells": [
  {
   "cell_type": "markdown",
   "id": "6966e580-417e-4c26-83fa-c24b1ba528b8",
   "metadata": {},
   "source": [
    "# Python 基礎容器 - 練習題彙整\n",
    "> for 隊輔組\n",
    "\n",
    "SITCON Camp 2023 主線課程<br>\n",
    "主講：Hugo 王修佑"
   ]
  },
  {
   "cell_type": "markdown",
   "id": "5e1f8f53-6be1-45ff-872d-670722f86059",
   "metadata": {},
   "source": [
    "## 1.1\n",
    "在 [1,2,3,4,5] 中的偶數位置插入字串 'even' 變成 ['even', 1, 'even', 2, 'even', 3, 'even', 4, 'even', 5]，請寫出兩種不同於方法1，方法2，方法3的其他方法。\n",
    "\n",
    "```python\n",
    "# 方法一\n",
    "numbers = [1,2,3,4,5]\n",
    "target_list = []\n",
    "for number in numbers:\n",
    "    target_list.append('even')\n",
    "    target_list.append(number)\n",
    "target_list\n",
    "```\n",
    "\n",
    "```python\n",
    "# 方法2\n",
    "numbers = [1,2,3,4,5]\n",
    "for index in range(9):\n",
    "    if index % 2 == 0:\n",
    "        numbers.insert(index, 'even')\n",
    "numbers\n",
    "```\n",
    "\n",
    "```python\n",
    "# 方法3\n",
    "numbers = [1,2,3,4,5]\n",
    "for index in range(len(numbers)+len(numbers)-1):\n",
    "    if index % 2 == 0:\n",
    "        numbers.insert(index, 'even')\n",
    "numbers\n",
    "```"
   ]
  },
  {
   "cell_type": "code",
   "execution_count": null,
   "id": "4df12a2c-3227-4b14-986c-32a794669a8e",
   "metadata": {},
   "outputs": [],
   "source": [
    "# your code\n",
    "numbers = [1,2,3,4,5]\n",
    "for ______ in range(______):\n",
    "\n"
   ]
  },
  {
   "cell_type": "code",
   "execution_count": null,
   "id": "5317f090-4a69-4a35-9a3d-e7e2f65a98d6",
   "metadata": {},
   "outputs": [],
   "source": [
    "# your code\n",
    "numbers = [1,2,3,4,5]\n",
    "ans=[]\n",
    "\n",
    "for ____ in ________:\n",
    "    "
   ]
  },
  {
   "cell_type": "markdown",
   "id": "1e92edd3-04b9-4c65-af11-73e3d75b5a93",
   "metadata": {
    "jp-MarkdownHeadingCollapsed": true
   },
   "source": [
    "### 參考解答"
   ]
  },
  {
   "cell_type": "code",
   "execution_count": null,
   "id": "57c35010-4552-4386-9736-245fb41c00ef",
   "metadata": {},
   "outputs": [],
   "source": [
    "# 參考解法\n",
    "numbers = [1,2,3,4,5]\n",
    "for index in range(len(numbers)):\n",
    "    numbers.insert(index*2, 'even')\n",
    "print(numbers)"
   ]
  },
  {
   "cell_type": "code",
   "execution_count": null,
   "id": "15f27eef-fefe-438d-9ef3-f78c90561d81",
   "metadata": {},
   "outputs": [],
   "source": [
    "# 參考解法\n",
    "numbers = [1,2,3,4,5]\n",
    "for index in range(0,len(numbers)*2,2):\n",
    "    numbers.insert(index, 'even')\n",
    "print(numbers)"
   ]
  },
  {
   "cell_type": "markdown",
   "id": "2af2b0b0-d941-40a3-8112-9dd4d9514a9b",
   "metadata": {},
   "source": [
    "## 1.2\n",
    "利用 list 中刪除 element 的方法, 將你的手機號碼中是偶數的數字刪除，再重新組合成一個新的文字串（string），並印出。\n",
    "> 範例輸入：\n",
    "```\n",
    "id = '41349018'\n",
    "```\n",
    "> 範例輸出：\n",
    "```\n",
    "1391\n",
    "```\n"
   ]
  },
  {
   "cell_type": "code",
   "execution_count": null,
   "id": "2eac3b30-9106-437e-b2b7-63f417b30f14",
   "metadata": {},
   "outputs": [],
   "source": [
    "# your code\n",
    "id = 'FillinYourPhoneNum'\n",
    "idlist = ______(id)\n",
    "\n"
   ]
  },
  {
   "cell_type": "markdown",
   "id": "3aacc9cd-caf8-48e8-8634-b7e2e8138db2",
   "metadata": {
    "jp-MarkdownHeadingCollapsed": true
   },
   "source": [
    "### 參考解答"
   ]
  },
  {
   "cell_type": "code",
   "execution_count": null,
   "id": "47ec3c71-2a67-49ee-9f16-619202a85ad5",
   "metadata": {},
   "outputs": [],
   "source": [
    "# 參考解法\n",
    "id = '41349018'\n",
    "idlist = list(id)\n",
    "for i in id:\n",
    "  if int(i)%2 == 0:\n",
    "    idlist.remove(i)\n",
    "\n",
    "print(\"\".join(idlist))"
   ]
  },
  {
   "cell_type": "markdown",
   "id": "e97d65bb-b6d1-4e40-b537-999fbc013ee2",
   "metadata": {},
   "source": [
    "## 1.3\n",
    "用 list 單元介紹過的刪除方法來試試能不能刪除一個 turple 內的 element，至少試兩種方法。"
   ]
  },
  {
   "cell_type": "code",
   "execution_count": null,
   "id": "00a31f3b-3697-4f79-a50a-8bdd260a193a",
   "metadata": {},
   "outputs": [],
   "source": [
    "# your code\n",
    "lab_a = 'SITCON', 'Camp', 2023, 'NYCU'\n",
    "\n"
   ]
  },
  {
   "cell_type": "code",
   "execution_count": null,
   "id": "b80795c8-1c6f-48d0-a22a-7375cec06594",
   "metadata": {},
   "outputs": [],
   "source": [
    "# your code\n",
    "lab_b = (1, 2, 3, 4, 5)\n",
    "\n"
   ]
  },
  {
   "cell_type": "markdown",
   "id": "7b57a27b-3b57-495a-a7db-135814440815",
   "metadata": {
    "jp-MarkdownHeadingCollapsed": true
   },
   "source": [
    "### 參考解法"
   ]
  },
  {
   "cell_type": "code",
   "execution_count": null,
   "id": "6651fcdd-0cc4-45e8-ab82-cb5214b74434",
   "metadata": {},
   "outputs": [],
   "source": [
    "# 參考解法\n",
    "lab_a = 'SITCON', 'Camp', 2023, 'NYCU'\n",
    "lab_list = list(lab_a)\n",
    "del lab_list[3]\n",
    "\n",
    "lab_a = tuple(lab_list)\n",
    "print(lab_a)"
   ]
  },
  {
   "cell_type": "code",
   "execution_count": null,
   "id": "68a61428-e06b-4017-8e6c-fc152bba3e85",
   "metadata": {},
   "outputs": [],
   "source": [
    "# 參考解法\n",
    "lab_b = (1, 2, 3, 4, 5)\n",
    "lab_b = tuple([x for x in lab_b if x != 3])\n",
    "print(lab_b)"
   ]
  },
  {
   "cell_type": "markdown",
   "id": "0a5cba34-b299-45b6-a0f4-d74ae2cc0d86",
   "metadata": {},
   "source": [
    "## 2.1\n",
    "如何將一句話 '老虎老鼠傻傻分不清楚' 表示成 unigram (一個字一個字分開) 存在 list，請寫出兩種方法。\n",
    "> 範例輸出：\n",
    "```\n",
    "['老', '虎', '老', '鼠', '傻', '傻', '分', '不', '清', '楚']\n",
    "```"
   ]
  },
  {
   "cell_type": "code",
   "execution_count": null,
   "id": "990e9d8c-664e-4464-a8fb-6782fe9049c7",
   "metadata": {},
   "outputs": [],
   "source": [
    "# your code\n",
    "sentence = '老虎老鼠傻傻分不清楚'\n",
    "\n",
    "\n"
   ]
  },
  {
   "cell_type": "code",
   "execution_count": null,
   "id": "11943ce8-f3f4-4468-a5ba-a7ce0288194c",
   "metadata": {},
   "outputs": [],
   "source": [
    "# your code\n",
    "sentence = '老虎老鼠傻傻分不清楚'\n",
    "\n",
    "\n"
   ]
  },
  {
   "cell_type": "markdown",
   "id": "23c5e960-17cd-4c25-9048-8b3743b289fe",
   "metadata": {
    "jp-MarkdownHeadingCollapsed": true
   },
   "source": [
    "### 參考解法"
   ]
  },
  {
   "cell_type": "code",
   "execution_count": null,
   "id": "aebc38a1-f1a1-4752-a9bc-d04c90a7256d",
   "metadata": {},
   "outputs": [],
   "source": [
    "# 參考解法\n",
    "sentence = '老虎老鼠傻傻分不清楚'\n",
    "unigram = []\n",
    "for word in sentence:\n",
    "    unigram.append(word)\n",
    "unigram"
   ]
  },
  {
   "cell_type": "code",
   "execution_count": null,
   "id": "6047b73a-2a1b-4416-b36e-c319206edaf8",
   "metadata": {},
   "outputs": [],
   "source": [
    "# 參考解法\n",
    "sentence = '老虎老鼠傻傻分不清楚'\n",
    "unigram = []\n",
    "for index in range(len(sentence)):\n",
    "    unigram.append(sentence[index])\n",
    "unigram"
   ]
  },
  {
   "cell_type": "code",
   "execution_count": null,
   "id": "12466fe9-21e3-4a87-a29d-1ab946e7edcf",
   "metadata": {},
   "outputs": [],
   "source": [
    "# 參考解法\n",
    "sentence = '老虎老鼠傻傻分不清楚'\n",
    "unigram = list(sentence)\n",
    "unigram"
   ]
  },
  {
   "cell_type": "markdown",
   "id": "9875e89e-2e5f-4847-aaf2-e247aadacb4e",
   "metadata": {},
   "source": [
    "## 2.2\n",
    "如何知道 string 中有那些不重複字\n",
    "```\n",
    "string = '''\n",
    "六合縣有個六十六歲的陸老頭，蓋了六十六間樓，\n",
    "買了六十六簍油，堆在六十六間樓， 栽了六十六株垂楊柳，\n",
    "養了六十六頭牛，扣在六十六株垂楊柳。\n",
    "遇了一陣狂風起，吹倒了六十六間樓，\n",
    "翻了六十六簍油，斷了六十六株垂楊柳，\n",
    "打死了六十六頭牛，急煞了六合縣的六十六歲的陸老頭。'''\n",
    "\n",
    "```"
   ]
  },
  {
   "cell_type": "code",
   "execution_count": null,
   "id": "341ace5d-7826-45ce-b895-a28611ccb379",
   "metadata": {},
   "outputs": [],
   "source": [
    "string = '''\n",
    "六合縣有個六十六歲的陸老頭，蓋了六十六間樓，\n",
    "買了六十六簍油，堆在六十六間樓， 栽了六十六株垂楊柳，\n",
    "養了六十六頭牛，扣在六十六株垂楊柳。\n",
    "遇了一陣狂風起，吹倒了六十六間樓，\n",
    "翻了六十六簍油，斷了六十六株垂楊柳，\n",
    "打死了六十六頭牛，急煞了六合縣的六十六歲的陸老頭。'''"
   ]
  },
  {
   "cell_type": "code",
   "execution_count": null,
   "id": "d22a3c3d-ca7a-46be-aed5-c69bd670fbdd",
   "metadata": {},
   "outputs": [],
   "source": [
    "# your code\n",
    "output_list = []\n",
    "\n"
   ]
  },
  {
   "cell_type": "markdown",
   "id": "d8f71758-283b-4e1e-b489-569fc4e91a62",
   "metadata": {
    "jp-MarkdownHeadingCollapsed": true
   },
   "source": [
    "### 參考解法"
   ]
  },
  {
   "cell_type": "code",
   "execution_count": null,
   "id": "9169d9ae-e659-41c3-b2d8-49b4756d5970",
   "metadata": {},
   "outputs": [],
   "source": [
    "string = '''\n",
    "六合縣有個六十六歲的陸老頭，蓋了六十六間樓，\n",
    "買了六十六簍油，堆在六十六間樓， 栽了六十六株垂楊柳，\n",
    "養了六十六頭牛，扣在六十六株垂楊柳。\n",
    "遇了一陣狂風起，吹倒了六十六間樓，\n",
    "翻了六十六簍油，斷了六十六株垂楊柳，\n",
    "打死了六十六頭牛，急煞了六合縣的六十六歲的陸老頭。'''\n",
    "\n",
    "#參考解法\n",
    "output_list = []\n",
    "for word in string:\n",
    "    if word not in output_list:\n",
    "        output_list.append(word)\n",
    "output_list"
   ]
  },
  {
   "cell_type": "code",
   "execution_count": null,
   "id": "f8c3d737-4f6b-4272-9da9-a7ee72828bd7",
   "metadata": {},
   "outputs": [],
   "source": [
    "string = '''\n",
    "六合縣有個六十六歲的陸老頭，蓋了六十六間樓，\n",
    "買了六十六簍油，堆在六十六間樓， 栽了六十六株垂楊柳，\n",
    "養了六十六頭牛，扣在六十六株垂楊柳。\n",
    "遇了一陣狂風起，吹倒了六十六間樓，\n",
    "翻了六十六簍油，斷了六十六株垂楊柳，\n",
    "打死了六十六頭牛，急煞了六合縣的六十六歲的陸老頭。'''\n",
    "\n",
    "#參考解法\n",
    "set(string)"
   ]
  },
  {
   "cell_type": "markdown",
   "id": "708b7975-177b-4a6e-8caf-c0aef2dc7a4f",
   "metadata": {},
   "source": [
    "## 2.3\n",
    "製作一段文章的字數字典\n",
    "\n",
    "```python\n",
    "# 魔戒三部曲，電影劇情簡介\n",
    "paragraph = '''\n",
    "\t魔戒現身\t編輯\n",
    "凱蘭崔爾敍述的序言講及索倫鑄造至尊魔戒以圖征服中土大陸，人類及精靈組成聯盟發動最後同盟戰役推翻了索倫。至尊魔戒落入埃西鐸手中。埃西鐸後來被半獸人所殺，至尊魔戒失落，在數千年後才被哈比人史麥戈所獲，因受魔戒的影響，史麥戈成為咕嚕。至尊魔戒急欲返回它的主人索倫手裡，於是離棄咕嚕，被哈比人比爾博·巴金斯所獲。\n",
    "\n",
    "在比爾博111歲生日當天，比爾博將至尊魔戒讓給堂姪佛羅多·巴金斯。比爾博好友甘道夫經過探查後發現那就是失落的至尊魔戒，由於索倫急欲取得至尊魔戒，甘道夫囑咐佛羅多要儘速帶同魔戒離開夏爾。甘道夫趕往艾辛格與巫師的首領薩魯曼商討對策，薩魯曼透露索倫已派出戒靈奪取魔戒，認為中土自由子民無從抵抗，並邀請甘道夫和他一起加入索倫陣營。甘道夫拒絕，薩魯曼遂將甘道夫囚禁在歐散克塔。\n",
    "\n",
    "佛羅多和夥伴山姆在趕往布理途中遇到皮聘及梅里。他們在布理遇到神行客，神行客亞拉岡帶領他們趕往瑞文戴爾。他們在風雲頂被戒靈襲擊，佛羅多被戒靈刺傷，生命危在旦夕。女精靈亞玟帶同佛羅多趕往瑞文戴爾，亞玟的父親愛隆救治了佛羅多。\n",
    "\n",
    "愛隆召開會議商討至尊魔戒的事情。唯一摧毀至尊魔戒的方法就是將它丟進末日火山的火燄裡。佛羅多自願執行這個任務，其哈比人夥伴、甘道夫、亞拉岡、精靈勒苟拉斯、矮人金靂及剛鐸大將波羅莫都加入，組成魔戒遠征隊。他們原本計劃攀越卡蘭拉斯山，但受薩魯曼阻撓。魔戒遠征隊遂穿越摩瑞亞礦坑，他們在礦坑內受到半獸人、食人妖及炎魔的襲擊。甘道夫阻擊炎魔，雙雙墮入深淵。\n",
    "\n",
    "失去甘道夫的魔戒遠征隊趕往羅斯洛立安謁見女王凱蘭崔爾。整頓以後，眾人沿安都因河朝帕斯加蘭進發。波羅莫急切於利用魔戒拯救剛鐸，於是嘗試從佛羅多手中奪取魔戒。佛羅多有感於魔戒的誘惑力驚人，於是決定獨自前往魔多。此時，魔戒遠征隊受到薩魯曼的強獸人襲擊，後悔行為魯莽的波羅莫為了保護梅里及皮聘而受重傷，梅里及皮聘被強獸人擄走。亞拉岡原諒了波羅莫，波羅莫在死前終承認了亞拉岡是他的國王。亞拉岡、勒苟拉斯及金靂為了營救梅里及皮聘而追蹤強獸人。另一方面，佛羅多向北而行，渡過安都因河，尾隨而至的山姆誓死追隨佛羅多。\n",
    "\n",
    "雙城奇謀\t編輯\n",
    "電影開首呼應首部曲，甘道夫在摩瑞亞的橋上與炎魔對峙，甘道夫與炎魔墜落深淵。佛羅多從夢境中醒過來，與山姆繼續行程，他們被希望奪回魔戒的咕嚕襲擊，佛羅多及山姆制伏了他，佛羅多正需要一名嚮導引領他們前往魔多，於是讓他引路。\n",
    "\n",
    "在洛汗，薩魯曼那一支擄走梅里及皮聘的強獸人橫過草原向艾辛格進發，勒苟拉斯、金靂及亞拉岡尾隨追蹤。薩魯曼亦在洛汗國王身邊安插了葛力馬·巧言控制著希優頓。薩魯曼聚集大軍展開攻勢，沿途燒殺破壞，希優頓的兒子希優德戰死。希優頓之甥伊歐墨責難葛力馬，反被葛力馬驅逐，伊歐墨聚集了一些忠實的部下離去。\n",
    "\n",
    "佛羅多及山姆橫過死亡沼澤，一路上躲避戒靈的空中游戈，終於抵達黑門。黑門被重兵駐守，佛羅多及山姆兩人束手無策，咕嚕建議他們透過另一條秘密的階梯潛入魔多。同時，被驅逐的伊歐墨領導騎兵在法貢森林附近殲滅了梅里及皮聘所在的那一支強獸人，梅里及皮聘逃進法貢森林，並遇到樹鬍。\n",
    "\n",
    "勒苟拉斯、金靂及亞拉岡遭遇伊歐墨，得知梅里及皮聘生還機會渺茫，亞拉岡仔細查察之下發現梅里及皮聘進入了法貢森林，亦尾隨進入，他們在森林裡遇到白袍巫師，發現竟是重生的甘道夫。他們聯袂來到洛汗都城伊多拉斯，消除了薩魯曼對希優頓的控制，驅逐葛力馬。恢復自我的希優頓得知薩魯曼的威脅後決定將洛汗人民撤至要塞聖盔谷。甘道夫深明以洛汗的現有兵力堅守聖盔谷也不能抵擋薩魯曼的大軍，於是出發前往尋找伊歐墨。\n",
    "\n",
    "佛羅多、山姆及咕嚕目擊剛鐸軍隊伏擊一支南方人，佛羅多及山姆被剛鐸軍隊擒獲。洛汗人在撤往聖盔谷途中遭遇薩魯曼的狼騎士襲擊，亞拉岡墜落峭壁失蹤。在瑞文戴爾，亞拉岡的戀人亞玟在父親的勸說下出發，準備離開中土大陸。\n",
    "\n",
    "佛羅多及山姆被帶到漢那斯安南，剛鐸大將法拉墨得悉佛羅多持有魔戒，為了向父親證明他的價值，他決定將佛羅多及至尊魔戒帶到剛鐸。亞拉岡抵達聖盔谷，準備迎戰薩魯曼，一支受愛隆所命的精靈部隊亦赴援。法貢森林的樹鬍召開樹人會議，商討是否應介入戰爭。\n",
    "\n",
    "聖盔谷之戰在大雨下展開，洛汗戰士奮力抵擋。樹人會議最終決定不介入戰爭，皮聘誘導樹鬍將他們帶到南面，樹鬍發現法貢森林南部的林木被薩魯曼砍伐用作燃料，樹鬍震怒，遂帶領樹人報復。\n",
    "\n",
    "洛汗一方的形勢急轉直下，亞拉岡等人帶領守軍進行最後的衝鋒，清晨時分，甘道夫引領援軍抵達戰場，擊敗了強獸人大軍。樹人亦控制了艾辛格。法拉墨等人到達奧斯吉力亞斯，該處正在進行戰鬥，法拉墨得悉佛羅多等人的任務，決定釋放他們。咕嚕感到被佛羅多背叛，於是引導兩名哈比人前往「她」那裡。\n",
    "\n",
    "王者再臨\t編輯\n",
    "電影開始時講述哈比人德戈及史麥戈發現魔戒的過程，史麥戈殺死德戈並奪取魔戒，從此隱匿深山裡。\n",
    "\n",
    "返回現在，亞拉岡等人來到艾辛格，會合梅里及皮聘，薩魯曼想告知甘道夫魔多的事情時，被葛力馬‧巧言從後偷襲，跌下塔底死亡，真知晶球從袍內流出，皮聘拾起了薩魯曼的真知晶球，但被甘道夫取去。希優頓在返回伊多拉斯後舉行慶典。佛羅多等人逐漸靠近魔多，咕嚕的陰謀面也逐漸呈現，他計劃引導哈比人到西力斯昂哥，讓屍羅殺死他們，他便可獲得魔戒，又開始離間佛羅多與山姆。\n",
    "\n",
    "出於好奇的皮聘偷看真知晶球，他看到燃燒中的聖白樹，索倫透過心靈接觸拷問皮聘。甘道夫以此推斷索倫準備進攻米那斯提力斯，於是攜同皮聘趕往警示剛鐸攝政王迪耐瑟二世。前往灰港岸路上的亞玟預見了她和亞拉岡的兒子，她返回瑞文戴爾說服父親，又讓父親重鑄納希爾聖劍。\n",
    "\n",
    "甘道夫及皮聘到達米那斯提力斯，謁見因波羅莫之死而悲傷的迪耐瑟二世。皮聘向迪耐瑟效忠以回報波羅莫的犠牲，悲傷的迪耐瑟無意採取任何措施回應索倫的行動。佛羅多等人路經米那斯魔窟附近，目睹安格馬巫王派遣軍隊出擊的情況。甘道夫指示皮聘燃點烽火台向洛汗求援。\n",
    "\n",
    "魔多大軍渡過安都因河向剛鐸控制的奧斯吉力亞斯進攻，以法拉墨為首的剛鐸守軍大敗，撤返米那斯提力斯。敗軍被戒靈追擊，甘道夫營救他們，法拉墨向甘道夫透露了佛羅多等人的情況。\n",
    "\n",
    "攻克奧斯吉力亞斯後，安格馬巫王下令要殺絕米那斯提力斯的人類。迪耐瑟不滿法拉墨棄守奧斯吉力亞斯，要他不惜一切代價奪回奧斯吉力亞斯。咕嚕繼續離間佛羅多及山姆，終使佛羅多趕走山姆。\n",
    "\n",
    "法拉墨的自殺式攻勢全軍覆沒，他本人亦重創而回。同時，愛隆趕來會面亞拉岡，奉上納希爾聖劍，並促請亞拉岡以此劍召喚登哈洛的亡者參戰，亞拉岡遂聯同金靂、勒苟拉斯連夜出發。一直傾慕亞拉岡的洛汗王女伊歐玟懇求亞拉岡留下來，亞拉岡從愛隆口中得知亞玟為了他放棄了精靈的永生，拒絕了伊歐玟。翌晨，希優頓領導六千騎兵赴援，伊歐玟及梅里亦暗中混入軍隊。\n",
    "\n",
    "魔多大軍開始圍攻米那斯提力斯，迪耐瑟誤以為重傷的法拉墨已離世，絕望及失去子嗣打垮了迪耐瑟，他下令剛鐸守軍放棄抵抗，甘道夫制伏了他，並指揮作戰。咕嚕引領佛羅多來到屍羅巢穴，佛羅多被屍羅的毒針所傷，山姆趕到，並擊退屍羅。山姆誤以為佛羅多已死，昏迷的佛羅多被半獸人帶走。\n",
    "\n",
    "魔多大軍擊破了城門，守軍不支退守內城。此時，洛汗援軍抵達一度擊潰了魔多大軍，但隨著南方人的增援，魔多大軍在猛瑪的掩護下再次集結兵力。安格馬巫王重創希優頓，伊歐玟為了保護國王挺身與安格馬巫王對峙，亦被重創，梅里在危急關頭介入，與伊歐玟聯手殺死安格馬巫王。亞拉岡透過海盜船帶領著亡者軍隊抵達，擊敗魔多軍隊。希優頓傷重逝世。亡者軍隊在履行了諾言後，亞拉岡將他們釋放，亡靈隨風而去。西力斯昂哥的守軍因佛羅多的一件秘銀甲衣而爆發內鬨，大部分半獸人守軍都死於這次衝突，山姆得以營救佛羅多，兩人向末日火山進發。\n",
    "\n",
    "甘道夫得知一萬魔多士兵集結在西力斯昂哥與末日火山之間，堵住了佛羅多的去路。亞拉岡提議率領部隊開赴黑門以吸引索倫的注意力。\n",
    "\n",
    "山姆及佛羅多即將抵達目的地，咕嚕在此時現身並襲擊兩人。佛羅多最終在末日火山被至尊魔戒控制，他戴上了魔戒將之據為己有，咕嚕上前搶奪魔戒，咬斷了佛羅多的手指，咕嚕得到魔戒後非常興奮，佛羅多上前糾纏，兩人在懸崖失足。佛羅多幸得山姆解救，咕嚕與至尊魔戒都被熾熱的熔岩摧毀。力量與至尊魔戒相連的索倫終告失敗，永遠失去了力量。正在黑門前作戰的半獸人及戒靈亦受到牽連。\n",
    "\n",
    "末日火山爆發，正當介佛羅多及山姆都以為他們沒法再看見夏爾時，甘道夫與巨鷹拯救了他們。除了波羅莫外，魔戒遠征隊在米那斯提力斯團圓。亞拉岡被加冕為剛鐸國王，並再會亞玟。哈比人返回家鄉，山姆迎娶小玫·卡頓，佛羅多續作了西境紅皮書，他仍受到魔戒影響，他知道他無法在中土大陸平穩地生活，於是決定與甘道夫、比爾博、愛隆、凱蘭崔爾前往灰港岸，乘上離開中土大陸的船隻。山姆、皮聘及梅里各自回家，山姆最終以一句「我回來了」作終。\n",
    "'''\n",
    "\n",
    "# refer to https://zh.m.wikipedia.org/zh-tw/%E9%AD%94%E6%88%92%E9%9B%BB%E5%BD%B1%E4%B8%89%E9%83%A8%E6%9B%B2\n",
    "```"
   ]
  },
  {
   "cell_type": "markdown",
   "id": "48f1a597-f55f-4034-a88d-6c5d8f91c096",
   "metadata": {},
   "source": [
    "### 2.3.1\r\n",
    "請將 paragraph 變成 unigram"
   ]
  },
  {
   "cell_type": "code",
   "execution_count": null,
   "id": "1bd8d2fa-767e-4357-a8b6-89139e8b4b28",
   "metadata": {},
   "outputs": [],
   "source": [
    "# your code\n",
    "\n"
   ]
  },
  {
   "cell_type": "markdown",
   "id": "6e4648e7-f3af-4826-80e9-d8db0c38ac3c",
   "metadata": {
    "jp-MarkdownHeadingCollapsed": true
   },
   "source": [
    "#### 參考解法"
   ]
  },
  {
   "cell_type": "code",
   "execution_count": null,
   "id": "7d1f450d-00ff-47a5-9bfa-74266dbbacd1",
   "metadata": {},
   "outputs": [],
   "source": [
    "#參考解法\n",
    "ring_list = []\n",
    "for words in paragraph:\n",
    "    ring_list.append(words)\n",
    "print(ring_list)"
   ]
  },
  {
   "cell_type": "markdown",
   "id": "558005c3-76c8-4688-a442-be7c1ddd2fac",
   "metadata": {},
   "source": [
    "### 2.3.2\n",
    "請找出 paragraph 有那些不重複字"
   ]
  },
  {
   "cell_type": "code",
   "execution_count": null,
   "id": "8b37cccb-75cc-4fcd-a75a-f7fd3fe06f2c",
   "metadata": {},
   "outputs": [],
   "source": [
    "# your code\n",
    "\n"
   ]
  },
  {
   "cell_type": "markdown",
   "id": "5ad5ace7-3ca6-4254-9d11-230fde19538e",
   "metadata": {
    "jp-MarkdownHeadingCollapsed": true
   },
   "source": [
    "#### 參考解法"
   ]
  },
  {
   "cell_type": "code",
   "execution_count": null,
   "id": "d5377212-6e93-40c7-95f4-94dccee95ecd",
   "metadata": {},
   "outputs": [],
   "source": [
    "#參考解法\n",
    "ring_set = set(ring_list)\n",
    "print(ring_set)"
   ]
  },
  {
   "cell_type": "markdown",
   "id": "a8420b93-e941-4f83-89c8-45dea1dd778f",
   "metadata": {},
   "source": [
    "### 2.3.3\n",
    "請計算每個不重複字在 paragraph 中出現幾次，並存成 Dictionary"
   ]
  },
  {
   "cell_type": "code",
   "execution_count": null,
   "id": "a9eee37d-309b-42df-a4df-2d5119c38b93",
   "metadata": {},
   "outputs": [],
   "source": [
    "# your code\n",
    "\n"
   ]
  },
  {
   "cell_type": "markdown",
   "id": "0e11009d-7554-42c0-a54f-d346fa8d41e7",
   "metadata": {
    "jp-MarkdownHeadingCollapsed": true
   },
   "source": [
    "#### 參考解法"
   ]
  },
  {
   "cell_type": "code",
   "execution_count": null,
   "id": "23a9182d-80dd-41f0-81d9-daa75de40803",
   "metadata": {},
   "outputs": [],
   "source": [
    "#參考解法\n",
    "ring_dict = {}\n",
    "for find in ring_set:\n",
    "    text = ring_list.count(find)\n",
    "    ring_dict[find] = text\n",
    "print(ring_dict)"
   ]
  },
  {
   "cell_type": "markdown",
   "id": "4062e752-d537-49a6-9980-5b4a35e0173a",
   "metadata": {},
   "source": [
    "### 2.3.4\n",
    "上題的 Dictionary 中出現最多次數的前 10 名是哪些字？各有多少次？\n",
    "\n",
    "* hint: 使用 sorted, 參考[Sorting HOW TO](https://docs.python.org/3/howto/sorting.html)"
   ]
  },
  {
   "cell_type": "code",
   "execution_count": null,
   "id": "acf96438-4b50-4441-b78c-3013674d8609",
   "metadata": {},
   "outputs": [],
   "source": [
    "# your code\n",
    "\n"
   ]
  },
  {
   "cell_type": "markdown",
   "id": "631b0bfd-4408-4aee-81a9-8d2b24bf7ae8",
   "metadata": {
    "jp-MarkdownHeadingCollapsed": true
   },
   "source": [
    "#### 參考解法"
   ]
  },
  {
   "cell_type": "code",
   "execution_count": null,
   "id": "a453c432-f787-4bd3-b7e5-6e4fcf6a6b40",
   "metadata": {},
   "outputs": [],
   "source": [
    "#參考解法\n",
    "n = 1\n",
    "for key, value in sorted(ring_dict.items(), key = lambda x:x[1], reverse = True)[0:10]:\n",
    "    print(f'第{n}名的字是:{key}, 共有{value}字')\n",
    "    n += 1\n",
    "\n",
    "# 第6名是:\\n(以致於output時換行)"
   ]
  },
  {
   "cell_type": "markdown",
   "id": "393a7739-c8a9-4df3-bda2-b3825193a815",
   "metadata": {},
   "source": [
    "## 2.4\n",
    "寫一個程式，找出你的電話號碼中最大，最小的正整數（不含0）。\n",
    "> 範例輸入：\n",
    "```\n",
    "id = '41341017'\n",
    "```\n",
    "> 範例輸出：\n",
    "```\n",
    "Max:7\n",
    "Min:1\n",
    "```"
   ]
  },
  {
   "cell_type": "code",
   "execution_count": null,
   "id": "607b799a-fbea-47ff-bb99-054803ffe699",
   "metadata": {},
   "outputs": [],
   "source": [
    "# your code\n",
    "id = 'FillinYourPhoneNum'\n",
    "\n"
   ]
  },
  {
   "cell_type": "markdown",
   "id": "ccfe670e-8585-4f66-ab19-187bd5f8663c",
   "metadata": {
    "jp-MarkdownHeadingCollapsed": true
   },
   "source": [
    "#### 參考解法"
   ]
  },
  {
   "cell_type": "code",
   "execution_count": null,
   "id": "2fb24ebf-a34c-4730-9f68-39ef62266b78",
   "metadata": {},
   "outputs": [],
   "source": [
    "# 參考解法\n",
    "id = '41341017'\n",
    "idlist = list(id)\n",
    "zero = idlist.count('0')\n",
    "for i in range(zero):\n",
    "    idlist.remove('0')\n",
    "    \n",
    "print(f'Max:{max(idlist)}')\n",
    "print(f'Min:{min(idlist)}')"
   ]
  },
  {
   "cell_type": "code",
   "execution_count": null,
   "id": "fe22d4d2-6caa-4bc3-b729-94352e8ffd85",
   "metadata": {},
   "outputs": [],
   "source": [
    "# 參考解法\n",
    "id = '41341017'\n",
    "idlist = list(id)\n",
    "while '0' in idlist:\n",
    "    idlist.remove('0')\n",
    "    \n",
    "print(f'Max:{max(idlist)}')\n",
    "print(f'Min:{min(idlist)}')"
   ]
  },
  {
   "cell_type": "markdown",
   "id": "04a410bd-33ef-4ef5-9509-ebfab884b571",
   "metadata": {},
   "source": [
    "## 2.5\n",
    "如果將一組序號的數字兩兩一組依序取出，找出這組序號中最大，最小的正整數（不含0）。譬如 23034008 中，\"23, 30, 3, 34, 40, 8\" 最大的是 40, 最小的是 3。\n",
    "> 範例輸入：\n",
    "```\n",
    "id = '4134100570745000223'\n",
    "```\n",
    "> 範例輸出：\n",
    "```\n",
    "Max: 74\n",
    "Min: 2\n",
    "```"
   ]
  },
  {
   "cell_type": "code",
   "execution_count": null,
   "id": "014d33fb-74a1-43a3-91e9-1a4b205b88e9",
   "metadata": {},
   "outputs": [],
   "source": [
    "# your code\n",
    "id = 'Fillin'\n",
    "\n",
    "\n"
   ]
  },
  {
   "cell_type": "markdown",
   "id": "aca534ed-162a-4ec2-b225-e29998871740",
   "metadata": {
    "jp-MarkdownHeadingCollapsed": true
   },
   "source": [
    "#### 參考解法"
   ]
  },
  {
   "cell_type": "code",
   "execution_count": null,
   "id": "1f8d1edb-2750-4392-a56d-6db060537f7d",
   "metadata": {},
   "outputs": [],
   "source": [
    "# 參考解法\n",
    "id = '4134100570745000223'\n",
    "sep = []\n",
    "for i in range(len(id)-1):\n",
    "    if id[i] == '0' and id[i+1] == '0':\n",
    "        continue\n",
    "    elif id[i] == '0':\n",
    "        sep.append(int(id[i+1]))\n",
    "    else:\n",
    "        sep.append(int(id[i:i+2]))\n",
    "\n",
    "print(f'Max: {max(sep)}')\n",
    "print(f'Min: {min(sep)}')"
   ]
  },
  {
   "cell_type": "markdown",
   "id": "94e9ab0c-4c98-4008-8a69-9e08373befd5",
   "metadata": {},
   "source": [
    "## 2.6\n",
    "name = '一二三'<br>\n",
    "id = 'o123456789'<br>\n",
    "寫一個程式，利用 list, insert or append or extend 等方法，<br>\n",
    "印出 'o12一345二678三9'"
   ]
  },
  {
   "cell_type": "code",
   "execution_count": null,
   "id": "d33d45a6-7824-489d-88b2-7661f956c02b",
   "metadata": {},
   "outputs": [],
   "source": [
    "# your code\n",
    "name = '一二三'\n",
    "id = 'o123456789'\n",
    "\n",
    "\n"
   ]
  },
  {
   "cell_type": "markdown",
   "id": "dd33af99-b3f2-4d33-b9d3-cbfce9519a34",
   "metadata": {
    "jp-MarkdownHeadingCollapsed": true
   },
   "source": [
    "#### 參考解法"
   ]
  },
  {
   "cell_type": "code",
   "execution_count": null,
   "id": "aa982766-2c89-4f49-8989-07a913f502e4",
   "metadata": {},
   "outputs": [],
   "source": [
    "# 參考解法\n",
    "name = '一二三'\n",
    "id = 'o123456789'\n",
    "\n",
    "name_list = list(name)\n",
    "id_list = list(id)\n",
    "\n",
    "for i in range(len(name_list)):\n",
    "    id_list.insert((i+1)*3+i, name_list[i])\n",
    "\n",
    "result = ''.join(id_list)\n",
    "\n",
    "print(result)"
   ]
  },
  {
   "cell_type": "code",
   "execution_count": null,
   "id": "f88f1a45-00a5-4a7c-a66e-1109ac784b23",
   "metadata": {},
   "outputs": [],
   "source": []
  }
 ],
 "metadata": {
  "kernelspec": {
   "display_name": "Python 3 (ipykernel)",
   "language": "python",
   "name": "python3"
  },
  "language_info": {
   "codemirror_mode": {
    "name": "ipython",
    "version": 3
   },
   "file_extension": ".py",
   "mimetype": "text/x-python",
   "name": "python",
   "nbconvert_exporter": "python",
   "pygments_lexer": "ipython3",
   "version": "3.10.5"
  }
 },
 "nbformat": 4,
 "nbformat_minor": 5
}
