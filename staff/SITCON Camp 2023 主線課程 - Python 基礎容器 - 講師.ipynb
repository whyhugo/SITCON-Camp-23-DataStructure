{
 "cells": [
  {
   "cell_type": "markdown",
   "metadata": {
    "id": "i8A-oW4U0aQC"
   },
   "source": [
    "# Python 基礎容器 - 教學\n",
    "SITCON Camp 2023 主線課程<br>\n",
    "主講：Hugo 王修佑\n",
    "\n",
    "> List<br>\n",
    "> Tuple<br>\n",
    "> Set<br>\n",
    "> Dictionary<br>"
   ]
  },
  {
   "cell_type": "markdown",
   "metadata": {
    "id": "lfQ2ON9x0aQI"
   },
   "source": [
    "## Data Structure\n",
    "\n",
    " - Data Structure：以不同形式將資料儲存於記憶體\n",
    " - `List`、`Tuple`、`Set`、`Dictionary`，為什麼要這麼多種結構? "
   ]
  },
  {
   "cell_type": "markdown",
   "metadata": {
    "id": "-R7hyGvo0aQJ"
   },
   "source": [
    "### List"
   ]
  },
  {
   "cell_type": "markdown",
   "metadata": {
    "id": "kOzHTQKg0aQJ"
   },
   "source": [
    "#### Create List\n",
    " - [ ]、list()"
   ]
  },
  {
   "cell_type": "code",
   "execution_count": null,
   "metadata": {
    "id": "_kym6Uf60aQJ"
   },
   "outputs": [],
   "source": [
    "a_list = []\n",
    "b_list = list()\n",
    "c_list = [1, 'a', 2.3, True]"
   ]
  },
  {
   "cell_type": "code",
   "execution_count": null,
   "metadata": {
    "colab": {
     "base_uri": "https://localhost:8080/"
    },
    "executionInfo": {
     "elapsed": 864,
     "status": "ok",
     "timestamp": 1619754048616,
     "user": {
      "displayName": "李子儀",
      "photoUrl": "",
      "userId": "04838807742004672802"
     },
     "user_tz": -480
    },
    "id": "KpQznaVy0aQK",
    "outputId": "64ffc801-51db-4299-a6bd-8e222349ed13"
   },
   "outputs": [],
   "source": [
    "type(a_list)"
   ]
  },
  {
   "cell_type": "markdown",
   "metadata": {},
   "source": [
    "#### General Skill: index & slice"
   ]
  },
  {
   "cell_type": "code",
   "execution_count": null,
   "metadata": {},
   "outputs": [],
   "source": [
    "d_list = ['a', 'b', 'c', 'd', 'e', 'f']\n",
    "d_list"
   ]
  },
  {
   "cell_type": "markdown",
   "metadata": {},
   "source": [
    "|  |  |  |  |  |  |  |\r\n",
    "| -------- | -------- | -------- | -------- | -------- | -------- | -------- |\r\n",
    "| index (左→右) | 0 | 1 | 2 | 3 | 4 | 5 | \r\n",
    "| `d_list` | a | b | c | d | e | f |\r\n",
    "| index (右→左) | -6 | -5 | -4 | -3 | -2 | -1 |"
   ]
  },
  {
   "cell_type": "markdown",
   "metadata": {},
   "source": [
    "`list_name[start:end:step]`"
   ]
  },
  {
   "cell_type": "code",
   "execution_count": null,
   "metadata": {},
   "outputs": [],
   "source": [
    "d_list[4]"
   ]
  },
  {
   "cell_type": "code",
   "execution_count": null,
   "metadata": {},
   "outputs": [],
   "source": [
    "d_list[:2]"
   ]
  },
  {
   "cell_type": "code",
   "execution_count": null,
   "metadata": {},
   "outputs": [],
   "source": [
    "d_list[3:]"
   ]
  },
  {
   "cell_type": "code",
   "execution_count": null,
   "metadata": {},
   "outputs": [],
   "source": [
    "d_list[:-2]"
   ]
  },
  {
   "cell_type": "code",
   "execution_count": null,
   "metadata": {},
   "outputs": [],
   "source": [
    "d_list[-5:-1:2]"
   ]
  },
  {
   "cell_type": "markdown",
   "metadata": {
    "id": "J-XrXCLa0aQK"
   },
   "source": [
    "#### Add Value to List"
   ]
  },
  {
   "cell_type": "markdown",
   "metadata": {
    "id": "xyiVFw950aQK"
   },
   "source": [
    "append(element)"
   ]
  },
  {
   "cell_type": "code",
   "execution_count": null,
   "metadata": {
    "colab": {
     "base_uri": "https://localhost:8080/"
    },
    "executionInfo": {
     "elapsed": 923,
     "status": "ok",
     "timestamp": 1619754050850,
     "user": {
      "displayName": "李子儀",
      "photoUrl": "",
      "userId": "04838807742004672802"
     },
     "user_tz": -480
    },
    "id": "uSMu02s_0aQK",
    "outputId": "02006dd4-61ad-457f-bc8e-9c380720589d"
   },
   "outputs": [],
   "source": [
    "a_list.append('test')\n",
    "a_list"
   ]
  },
  {
   "cell_type": "code",
   "execution_count": null,
   "metadata": {
    "colab": {
     "base_uri": "https://localhost:8080/"
    },
    "executionInfo": {
     "elapsed": 877,
     "status": "ok",
     "timestamp": 1619754051595,
     "user": {
      "displayName": "李子儀",
      "photoUrl": "",
      "userId": "04838807742004672802"
     },
     "user_tz": -480
    },
    "id": "e7Z0LZg-0aQL",
    "outputId": "9bfec2d5-61e5-4e4d-971f-ffe48ddb4d41"
   },
   "outputs": [],
   "source": [
    "len(a_list)"
   ]
  },
  {
   "cell_type": "markdown",
   "metadata": {
    "id": "4QLrsFkP0aQL"
   },
   "source": [
    "extend(List)"
   ]
  },
  {
   "cell_type": "code",
   "execution_count": null,
   "metadata": {
    "colab": {
     "base_uri": "https://localhost:8080/"
    },
    "executionInfo": {
     "elapsed": 945,
     "status": "ok",
     "timestamp": 1619754083905,
     "user": {
      "displayName": "李子儀",
      "photoUrl": "",
      "userId": "04838807742004672802"
     },
     "user_tz": -480
    },
    "id": "xegPJq4O0aQL",
    "outputId": "c079af4e-1ad2-491c-b6ab-ecd38ff64abe"
   },
   "outputs": [],
   "source": [
    "a_list.extend(c_list)\n",
    "a_list "
   ]
  },
  {
   "cell_type": "code",
   "execution_count": null,
   "metadata": {
    "colab": {
     "base_uri": "https://localhost:8080/"
    },
    "executionInfo": {
     "elapsed": 556,
     "status": "ok",
     "timestamp": 1619754102825,
     "user": {
      "displayName": "李子儀",
      "photoUrl": "",
      "userId": "04838807742004672802"
     },
     "user_tz": -480
    },
    "id": "pDD6Mln-0aQL",
    "outputId": "130dd9c3-a120-4e16-cf1a-da920bd0b8f0"
   },
   "outputs": [],
   "source": [
    "len(a_list)"
   ]
  },
  {
   "cell_type": "markdown",
   "metadata": {
    "id": "YzkTkOx00aQM"
   },
   "source": [
    "append(List)"
   ]
  },
  {
   "cell_type": "code",
   "execution_count": null,
   "metadata": {
    "colab": {
     "base_uri": "https://localhost:8080/"
    },
    "executionInfo": {
     "elapsed": 889,
     "status": "ok",
     "timestamp": 1619754114799,
     "user": {
      "displayName": "李子儀",
      "photoUrl": "",
      "userId": "04838807742004672802"
     },
     "user_tz": -480
    },
    "id": "P3zLpLxm0aQM",
    "outputId": "a243d80f-c4f3-44c9-acf8-693b9cbc39fa"
   },
   "outputs": [],
   "source": [
    "a_list.append(c_list)\n",
    "a_list"
   ]
  },
  {
   "cell_type": "code",
   "execution_count": null,
   "metadata": {
    "colab": {
     "base_uri": "https://localhost:8080/"
    },
    "executionInfo": {
     "elapsed": 874,
     "status": "ok",
     "timestamp": 1619754185325,
     "user": {
      "displayName": "李子儀",
      "photoUrl": "",
      "userId": "04838807742004672802"
     },
     "user_tz": -480
    },
    "id": "YzOCjFih0aQM",
    "outputId": "2863ce7d-5cd2-474d-85d6-39d91a9e5014"
   },
   "outputs": [],
   "source": [
    "len(a_list[5])"
   ]
  },
  {
   "cell_type": "markdown",
   "metadata": {
    "id": "ZFB7or2w0aQN"
   },
   "source": [
    "insert(index, element)"
   ]
  },
  {
   "cell_type": "code",
   "execution_count": null,
   "metadata": {
    "colab": {
     "base_uri": "https://localhost:8080/"
    },
    "executionInfo": {
     "elapsed": 856,
     "status": "ok",
     "timestamp": 1619754220858,
     "user": {
      "displayName": "李子儀",
      "photoUrl": "",
      "userId": "04838807742004672802"
     },
     "user_tz": -480
    },
    "id": "4xIW4Qf70aQN",
    "outputId": "67c49aaf-7849-45c6-c8af-1a21f8d52850"
   },
   "outputs": [],
   "source": [
    "a_list.insert(4, '我')\n",
    "a_list"
   ]
  },
  {
   "cell_type": "markdown",
   "metadata": {
    "id": "JZYP-F-00aQM"
   },
   "source": [
    "list的加和乘"
   ]
  },
  {
   "cell_type": "code",
   "execution_count": null,
   "metadata": {
    "colab": {
     "base_uri": "https://localhost:8080/"
    },
    "executionInfo": {
     "elapsed": 862,
     "status": "ok",
     "timestamp": 1619754209694,
     "user": {
      "displayName": "李子儀",
      "photoUrl": "",
      "userId": "04838807742004672802"
     },
     "user_tz": -480
    },
    "id": "-dGhIT5Y0aQM",
    "outputId": "bfc1da6a-3861-4a67-b147-5bd5ad0e9dce"
   },
   "outputs": [],
   "source": [
    "print(f'a_list: {a_list}')\n",
    "print(f'c_list: {c_list}')\n",
    "\n",
    "a_list = a_list + c_list\n",
    "print(f'a_list: {a_list}')"
   ]
  },
  {
   "cell_type": "code",
   "execution_count": null,
   "metadata": {
    "colab": {
     "base_uri": "https://localhost:8080/"
    },
    "executionInfo": {
     "elapsed": 870,
     "status": "ok",
     "timestamp": 1619754216724,
     "user": {
      "displayName": "李子儀",
      "photoUrl": "",
      "userId": "04838807742004672802"
     },
     "user_tz": -480
    },
    "id": "P53cgU_r0aQM",
    "outputId": "edf97e00-889f-4a3b-9cc0-006016f47414"
   },
   "outputs": [],
   "source": [
    "zero = [0]\n",
    "zero = zero * 5\n",
    "zero"
   ]
  },
  {
   "cell_type": "markdown",
   "metadata": {
    "id": "u6VoxyjB0aQN"
   },
   "source": [
    "#### Practice\n",
    "在 [1,2,3,4,5] 中的偶數位置插入字串 'even' 變成 ['even', 1, 'even', 2, 'even', 3, 'even', 4, 'even', 5]"
   ]
  },
  {
   "cell_type": "code",
   "execution_count": null,
   "metadata": {
    "colab": {
     "base_uri": "https://localhost:8080/"
    },
    "executionInfo": {
     "elapsed": 857,
     "status": "ok",
     "timestamp": 1619754227383,
     "user": {
      "displayName": "李子儀",
      "photoUrl": "",
      "userId": "04838807742004672802"
     },
     "user_tz": -480
    },
    "id": "leMBloj50aQN",
    "outputId": "90d37328-f453-4e60-cd7d-07e8af254b55"
   },
   "outputs": [],
   "source": [
    "# 錯誤寫法\n",
    "numbers = [1,2,3,4,5]\n",
    "for index in range(len(numbers)):\n",
    "    print(index)\n",
    "    if index % 2 == 0:\n",
    "        numbers.insert(index, 'even')\n",
    "numbers"
   ]
  },
  {
   "cell_type": "code",
   "execution_count": null,
   "metadata": {
    "colab": {
     "base_uri": "https://localhost:8080/"
    },
    "executionInfo": {
     "elapsed": 957,
     "status": "ok",
     "timestamp": 1619754231411,
     "user": {
      "displayName": "李子儀",
      "photoUrl": "",
      "userId": "04838807742004672802"
     },
     "user_tz": -480
    },
    "id": "-cx7cemV0aQN",
    "outputId": "d5037cbc-4c85-4adb-8150-981a07975807"
   },
   "outputs": [],
   "source": [
    "# 方法1\n",
    "numbers = [1,2,3,4,5]\n",
    "target_list = []\n",
    "for number in numbers:\n",
    "    target_list.append('even')\n",
    "    target_list.append(number)\n",
    "target_list"
   ]
  },
  {
   "cell_type": "code",
   "execution_count": null,
   "metadata": {
    "colab": {
     "base_uri": "https://localhost:8080/"
    },
    "executionInfo": {
     "elapsed": 937,
     "status": "ok",
     "timestamp": 1619754233039,
     "user": {
      "displayName": "李子儀",
      "photoUrl": "",
      "userId": "04838807742004672802"
     },
     "user_tz": -480
    },
    "id": "YV7H5pwe0aQO",
    "outputId": "a05fb7f5-3709-4039-99df-63205b1de42b"
   },
   "outputs": [],
   "source": [
    "# 方法2\n",
    "numbers = [1,2,3,4,5]\n",
    "for index in range(9):\n",
    "    if index % 2 == 0:\n",
    "        numbers.insert(index, 'even')\n",
    "numbers"
   ]
  },
  {
   "cell_type": "code",
   "execution_count": null,
   "metadata": {
    "colab": {
     "base_uri": "https://localhost:8080/"
    },
    "executionInfo": {
     "elapsed": 1012,
     "status": "ok",
     "timestamp": 1619754234818,
     "user": {
      "displayName": "李子儀",
      "photoUrl": "",
      "userId": "04838807742004672802"
     },
     "user_tz": -480
    },
    "id": "ys6KH-G70aQO",
    "outputId": "bfe1a9ad-c127-4792-dc0c-7a918d3203a9"
   },
   "outputs": [],
   "source": [
    "# 方法3\n",
    "numbers = [1,2,3,4,5]\n",
    "for index in range(len(numbers)+len(numbers)-1):\n",
    "    if index % 2 == 0:\n",
    "        numbers.insert(index, 'even')\n",
    "numbers"
   ]
  },
  {
   "cell_type": "markdown",
   "metadata": {
    "id": "x3PvZBYH0aQO",
    "jp-MarkdownHeadingCollapsed": true
   },
   "source": [
    "#### It's your turn🫵\n",
    "再寫出兩種不同於方法1，方法2，方法3的其他方法"
   ]
  },
  {
   "cell_type": "code",
   "execution_count": null,
   "metadata": {
    "id": "uSTtE-ja0aQO"
   },
   "outputs": [],
   "source": [
    "# 參考解法\n",
    "numbers = [1,2,3,4,5]\n",
    "for index in range(len(numbers)):\n",
    "    numbers.insert(index*2, 'even')\n",
    "print(numbers)"
   ]
  },
  {
   "cell_type": "code",
   "execution_count": null,
   "metadata": {
    "id": "ll3mvVO-0aQO"
   },
   "outputs": [],
   "source": [
    "# 參考解法\n",
    "numbers = [1,2,3,4,5]\n",
    "for index in range(0,len(numbers)*2,2):\n",
    "    numbers.insert(index, 'even')\n",
    "print(numbers)"
   ]
  },
  {
   "cell_type": "markdown",
   "metadata": {
    "id": "l29_ztSn0aQP"
   },
   "source": [
    "#### Modify Value in List"
   ]
  },
  {
   "cell_type": "markdown",
   "metadata": {},
   "source": [
    "list[index] = new_element"
   ]
  },
  {
   "cell_type": "code",
   "execution_count": null,
   "metadata": {
    "colab": {
     "base_uri": "https://localhost:8080/"
    },
    "executionInfo": {
     "elapsed": 902,
     "status": "ok",
     "timestamp": 1619754478390,
     "user": {
      "displayName": "李子儀",
      "photoUrl": "",
      "userId": "04838807742004672802"
     },
     "user_tz": -480
    },
    "id": "zAuVlFz_0aQP",
    "outputId": "70242d69-1e67-47db-cb32-d93a25894fbe"
   },
   "outputs": [],
   "source": [
    "a_list[8] = False\n",
    "a_list"
   ]
  },
  {
   "cell_type": "markdown",
   "metadata": {
    "id": "wPWTKcIv0aQP"
   },
   "source": [
    "#### Delete Value in List"
   ]
  },
  {
   "cell_type": "markdown",
   "metadata": {
    "id": "FWofIXSb0aQP"
   },
   "source": [
    "remove(element)"
   ]
  },
  {
   "cell_type": "code",
   "execution_count": null,
   "metadata": {
    "colab": {
     "base_uri": "https://localhost:8080/"
    },
    "executionInfo": {
     "elapsed": 963,
     "status": "ok",
     "timestamp": 1619754503445,
     "user": {
      "displayName": "李子儀",
      "photoUrl": "",
      "userId": "04838807742004672802"
     },
     "user_tz": -480
    },
    "id": "ldigrLTa0aQP",
    "outputId": "e0dacb46-1181-4a73-ff5a-c6f7b6a4f89e"
   },
   "outputs": [],
   "source": [
    "a_list.remove(1)\n",
    "a_list"
   ]
  },
  {
   "cell_type": "code",
   "execution_count": null,
   "metadata": {
    "id": "_cod3IAV0aQP"
   },
   "outputs": [],
   "source": [
    "a_list.remove(5)"
   ]
  },
  {
   "cell_type": "markdown",
   "metadata": {
    "id": "Z0Ieu7Fj0aQQ"
   },
   "source": [
    "del List[index]"
   ]
  },
  {
   "cell_type": "code",
   "execution_count": null,
   "metadata": {
    "colab": {
     "base_uri": "https://localhost:8080/"
    },
    "executionInfo": {
     "elapsed": 931,
     "status": "ok",
     "timestamp": 1619754575877,
     "user": {
      "displayName": "李子儀",
      "photoUrl": "",
      "userId": "04838807742004672802"
     },
     "user_tz": -480
    },
    "id": "8AaTpEyb0aQQ",
    "outputId": "7337629c-eeeb-4aa6-c763-4ed4fcca6f3a"
   },
   "outputs": [],
   "source": [
    "del a_list[4]\n",
    "a_list"
   ]
  },
  {
   "cell_type": "code",
   "execution_count": null,
   "metadata": {
    "id": "2r41KzBZ0aQQ"
   },
   "outputs": [],
   "source": [
    "del a_list[10]"
   ]
  },
  {
   "cell_type": "markdown",
   "metadata": {
    "id": "Bj8C1EK50aQQ"
   },
   "source": [
    "pop(index)"
   ]
  },
  {
   "cell_type": "markdown",
   "metadata": {},
   "source": [
    "<img src=\"https://yu-shin.github.io/posts/8069546e/stack1.jpg\" width=400px>\n",
    "\n",
    "取自 [Stack | Nicholas Blogger](https://yu-shin.github.io/posts/8069546e/)\r\n"
   ]
  },
  {
   "cell_type": "code",
   "execution_count": null,
   "metadata": {
    "colab": {
     "base_uri": "https://localhost:8080/"
    },
    "executionInfo": {
     "elapsed": 913,
     "status": "ok",
     "timestamp": 1619754581619,
     "user": {
      "displayName": "李子儀",
      "photoUrl": "",
      "userId": "04838807742004672802"
     },
     "user_tz": -480
    },
    "id": "ylEYIDY80aQQ",
    "outputId": "61240c0b-7b1e-4d9d-f379-1fdbc31c9fd4"
   },
   "outputs": [],
   "source": [
    "element = a_list.pop(2)\n",
    "print(element)\n",
    "print(a_list)"
   ]
  },
  {
   "cell_type": "code",
   "execution_count": null,
   "metadata": {
    "colab": {
     "base_uri": "https://localhost:8080/"
    },
    "executionInfo": {
     "elapsed": 888,
     "status": "ok",
     "timestamp": 1619754583538,
     "user": {
      "displayName": "李子儀",
      "photoUrl": "",
      "userId": "04838807742004672802"
     },
     "user_tz": -480
    },
    "id": "dIzd7inN0aQQ",
    "outputId": "d8b544e9-fa3b-4b72-ec69-8421e4c1fc81"
   },
   "outputs": [],
   "source": [
    "element = a_list.pop()\n",
    "print(element)\n",
    "print(a_list)"
   ]
  },
  {
   "cell_type": "code",
   "execution_count": null,
   "metadata": {
    "colab": {
     "base_uri": "https://localhost:8080/"
    },
    "executionInfo": {
     "elapsed": 844,
     "status": "ok",
     "timestamp": 1619754598372,
     "user": {
      "displayName": "李子儀",
      "photoUrl": "",
      "userId": "04838807742004672802"
     },
     "user_tz": -480
    },
    "id": "4hlzkzbA0aQR",
    "outputId": "22ec3d6f-4816-411d-c6a9-97e2d540c53c"
   },
   "outputs": [],
   "source": [
    "a_list.pop()\n",
    "a_list"
   ]
  },
  {
   "cell_type": "markdown",
   "metadata": {
    "id": "72tVGU4G0aQR"
   },
   "source": [
    "#### Pick Value from List"
   ]
  },
  {
   "cell_type": "markdown",
   "metadata": {},
   "source": [
    "index"
   ]
  },
  {
   "cell_type": "code",
   "execution_count": null,
   "metadata": {
    "colab": {
     "base_uri": "https://localhost:8080/"
    },
    "executionInfo": {
     "elapsed": 868,
     "status": "ok",
     "timestamp": 1619754689141,
     "user": {
      "displayName": "李子儀",
      "photoUrl": "",
      "userId": "04838807742004672802"
     },
     "user_tz": -480
    },
    "id": "O8qMyPzW0aQR",
    "jupyter": {
     "source_hidden": true
    },
    "outputId": "034edd76-263f-4e53-9071-902e8cd480e9"
   },
   "outputs": [],
   "source": [
    "type(a_list[2])"
   ]
  },
  {
   "cell_type": "code",
   "execution_count": null,
   "metadata": {
    "colab": {
     "base_uri": "https://localhost:8080/"
    },
    "executionInfo": {
     "elapsed": 1122,
     "status": "ok",
     "timestamp": 1619754613374,
     "user": {
      "displayName": "李子儀",
      "photoUrl": "",
      "userId": "04838807742004672802"
     },
     "user_tz": -480
    },
    "id": "4j_0FFF-0aQR",
    "outputId": "17afdffa-b076-4240-b8bc-7ccac77aa66a"
   },
   "outputs": [],
   "source": [
    "a_list[-4]"
   ]
  },
  {
   "cell_type": "markdown",
   "metadata": {},
   "source": [
    "slice"
   ]
  },
  {
   "cell_type": "code",
   "execution_count": null,
   "metadata": {
    "colab": {
     "base_uri": "https://localhost:8080/"
    },
    "executionInfo": {
     "elapsed": 1120,
     "status": "ok",
     "timestamp": 1619754613374,
     "user": {
      "displayName": "李子儀",
      "photoUrl": "",
      "userId": "04838807742004672802"
     },
     "user_tz": -480
    },
    "id": "vqWylmu40aQR",
    "outputId": "239326b3-d33a-4e21-eb90-0c5f4dff3b83"
   },
   "outputs": [],
   "source": [
    "a_list[2:5:2]"
   ]
  },
  {
   "cell_type": "markdown",
   "metadata": {
    "id": "A5p0vNRN0aQS"
   },
   "source": [
    "#### 常用函式"
   ]
  },
  {
   "cell_type": "markdown",
   "metadata": {
    "id": "9VQNFW5K0aQS"
   },
   "source": [
    "list 的長度 => len(List)"
   ]
  },
  {
   "cell_type": "code",
   "execution_count": null,
   "metadata": {
    "colab": {
     "base_uri": "https://localhost:8080/"
    },
    "executionInfo": {
     "elapsed": 698,
     "status": "ok",
     "timestamp": 1619754798507,
     "user": {
      "displayName": "李子儀",
      "photoUrl": "",
      "userId": "04838807742004672802"
     },
     "user_tz": -480
    },
    "id": "hGLYzg7G0aQS",
    "outputId": "e15911b9-116d-4f31-db37-b1c43df3c544"
   },
   "outputs": [],
   "source": [
    "numbers = [1,1,2,6,5,2,3,4,5]\n",
    "len(numbers)"
   ]
  },
  {
   "cell_type": "markdown",
   "metadata": {
    "id": "tM5IpnnJ0aQS"
   },
   "source": [
    "list 中指定元素的個數 => List.count(element)"
   ]
  },
  {
   "cell_type": "code",
   "execution_count": null,
   "metadata": {
    "colab": {
     "base_uri": "https://localhost:8080/"
    },
    "executionInfo": {
     "elapsed": 1069,
     "status": "ok",
     "timestamp": 1619754798880,
     "user": {
      "displayName": "李子儀",
      "photoUrl": "",
      "userId": "04838807742004672802"
     },
     "user_tz": -480
    },
    "id": "st9ycYSx0aQS",
    "outputId": "2782d2d2-ff80-4cf7-e698-63de9a1a95f4"
   },
   "outputs": [],
   "source": [
    "numbers = [1,1,2,6,5,2,3,4,5]\n",
    "numbers.count(1)"
   ]
  },
  {
   "cell_type": "code",
   "execution_count": null,
   "metadata": {
    "colab": {
     "base_uri": "https://localhost:8080/"
    },
    "executionInfo": {
     "elapsed": 1068,
     "status": "ok",
     "timestamp": 1619754798881,
     "user": {
      "displayName": "李子儀",
      "photoUrl": "",
      "userId": "04838807742004672802"
     },
     "user_tz": -480
    },
    "id": "xR4g_4Yp0aQS",
    "outputId": "98edc74d-ff31-49d7-97db-42a43a07ff10"
   },
   "outputs": [],
   "source": [
    "strings = ['a','a','f','c','c','e','g','a']\n",
    "strings.count('a')"
   ]
  },
  {
   "cell_type": "markdown",
   "metadata": {
    "id": "6mvercp80aQS"
   },
   "source": [
    "list 中是否存在指定元素 => element in List"
   ]
  },
  {
   "cell_type": "code",
   "execution_count": null,
   "metadata": {},
   "outputs": [],
   "source": [
    "strings = ['a','a','f','c','c','e','g','a']\n",
    "if strings.count('f') >= 1:\n",
    "    print('yes')"
   ]
  },
  {
   "cell_type": "code",
   "execution_count": null,
   "metadata": {
    "colab": {
     "base_uri": "https://localhost:8080/"
    },
    "executionInfo": {
     "elapsed": 1067,
     "status": "ok",
     "timestamp": 1619754798881,
     "user": {
      "displayName": "李子儀",
      "photoUrl": "",
      "userId": "04838807742004672802"
     },
     "user_tz": -480
    },
    "id": "zWjeAfQP0aQT",
    "outputId": "d3c129b3-a2cf-4cca-e3b0-be31a3959d2f"
   },
   "outputs": [],
   "source": [
    "numbers = [1,1,2,6,5,2,3,4,5]\n",
    "5 in numbers"
   ]
  },
  {
   "cell_type": "markdown",
   "metadata": {
    "id": "YcrHhXhs0aQT"
   },
   "source": [
    "list 排序 => List.sort()<br>\n",
    "list 倒轉 => List.reverse()"
   ]
  },
  {
   "cell_type": "code",
   "execution_count": null,
   "metadata": {
    "colab": {
     "base_uri": "https://localhost:8080/"
    },
    "executionInfo": {
     "elapsed": 1067,
     "status": "ok",
     "timestamp": 1619754798882,
     "user": {
      "displayName": "李子儀",
      "photoUrl": "",
      "userId": "04838807742004672802"
     },
     "user_tz": -480
    },
    "id": "8csdAMUa0aQT",
    "outputId": "96b859b4-7d69-455a-e019-8832047c86bf"
   },
   "outputs": [],
   "source": [
    "numbers = [1,1,2,6,5,2,3,4,5]\n",
    "numbers.sort()\n",
    "numbers"
   ]
  },
  {
   "cell_type": "code",
   "execution_count": null,
   "metadata": {
    "colab": {
     "base_uri": "https://localhost:8080/"
    },
    "executionInfo": {
     "elapsed": 1066,
     "status": "ok",
     "timestamp": 1619754798882,
     "user": {
      "displayName": "李子儀",
      "photoUrl": "",
      "userId": "04838807742004672802"
     },
     "user_tz": -480
    },
    "id": "MZA7nHwP0aQT",
    "outputId": "7997e369-9839-49ec-a9d6-4e67af43d4e8"
   },
   "outputs": [],
   "source": [
    "numbers = [1,1,2,6,5,2,3,4,5]\n",
    "numbers.sort(reverse=True)\n",
    "numbers"
   ]
  },
  {
   "cell_type": "code",
   "execution_count": null,
   "metadata": {},
   "outputs": [],
   "source": [
    "name = ['p', 'm', 'a', 'C', '_', 'N', 'O', 'C', 'T', 'I', 'S']\n",
    "name.reverse()\n",
    "name"
   ]
  },
  {
   "cell_type": "code",
   "execution_count": null,
   "metadata": {},
   "outputs": [],
   "source": [
    "name = ['p', 'm', 'a', 'C', '_', 'N', 'O', 'C', 'T', 'I', 'S']\n",
    "reversed_list = name[::-1]\n",
    "reversed_list"
   ]
  },
  {
   "cell_type": "markdown",
   "metadata": {
    "id": "ovVFLxs90aQT"
   },
   "source": [
    "list 的最大值、最小值、總和 => max(List)、min(List)、sum(List)"
   ]
  },
  {
   "cell_type": "code",
   "execution_count": null,
   "metadata": {
    "colab": {
     "base_uri": "https://localhost:8080/"
    },
    "executionInfo": {
     "elapsed": 1066,
     "status": "ok",
     "timestamp": 1619754798883,
     "user": {
      "displayName": "李子儀",
      "photoUrl": "",
      "userId": "04838807742004672802"
     },
     "user_tz": -480
    },
    "id": "abfhXvum0aQT",
    "outputId": "5bc5da83-fce6-4fa1-873e-109ac2814371"
   },
   "outputs": [],
   "source": [
    "numbers = [1,1,2,6,5,2,3,4,5]\n",
    "max(numbers)"
   ]
  },
  {
   "cell_type": "code",
   "execution_count": null,
   "metadata": {
    "colab": {
     "base_uri": "https://localhost:8080/"
    },
    "executionInfo": {
     "elapsed": 1064,
     "status": "ok",
     "timestamp": 1619754798883,
     "user": {
      "displayName": "李子儀",
      "photoUrl": "",
      "userId": "04838807742004672802"
     },
     "user_tz": -480
    },
    "id": "aXMz4KOz0aQT",
    "outputId": "3ed0b925-bbc3-4ead-ee33-7da467a0c294"
   },
   "outputs": [],
   "source": [
    "numbers = [1,1,2,6,5,2,3,4,5]\n",
    "min(numbers)"
   ]
  },
  {
   "cell_type": "code",
   "execution_count": null,
   "metadata": {
    "colab": {
     "base_uri": "https://localhost:8080/"
    },
    "executionInfo": {
     "elapsed": 1064,
     "status": "ok",
     "timestamp": 1619754798884,
     "user": {
      "displayName": "李子儀",
      "photoUrl": "",
      "userId": "04838807742004672802"
     },
     "user_tz": -480
    },
    "id": "UeVcEe1e0aQU",
    "outputId": "c36ff27e-2535-4d29-a1cc-e38db1d7282c"
   },
   "outputs": [],
   "source": [
    "numbers = [1,1,2,6,5,2,3,4,5]\n",
    "sum(numbers)"
   ]
  },
  {
   "cell_type": "markdown",
   "metadata": {},
   "source": [
    "串聯<br>\n",
    "\\<sep>.join(\\<list>)：用 sep 來串連列表元素，列表元素需皆為字串。"
   ]
  },
  {
   "cell_type": "code",
   "execution_count": null,
   "metadata": {},
   "outputs": [],
   "source": [
    "t_str = 'SITCON_Camp_2023'\n",
    "t_list = list(t_str)                       \n",
    "t_join = '$'.join(t_list)\n",
    "t_join"
   ]
  },
  {
   "cell_type": "markdown",
   "metadata": {
    "id": "I5vWfK130aQR",
    "jp-MarkdownHeadingCollapsed": true
   },
   "source": [
    "#### It's your turn🫵\n",
    "寫一個程式，利用 list 中刪除 element 的方法, 將你的手機號碼中是偶數的數字刪除，再重新組合成一個新的文字串（string），並印出。\n",
    "> 範例輸入：\n",
    "```\n",
    "id = '41349018'\n",
    "```\n",
    "> 範例輸出：\n",
    "```\n",
    "1391\n",
    "```"
   ]
  },
  {
   "cell_type": "code",
   "execution_count": null,
   "metadata": {
    "id": "tI0wfppl0aQR"
   },
   "outputs": [],
   "source": [
    "# 參考解法\n",
    "id = '41349018'\n",
    "idlist = list(id)\n",
    "for i in id:\n",
    "    if int(i)%2 == 0:\n",
    "        idlist.remove(i)\n",
    "\n",
    "print(\"\".join(idlist))"
   ]
  },
  {
   "cell_type": "markdown",
   "metadata": {},
   "source": [
    "#### List comprehension"
   ]
  },
  {
   "cell_type": "markdown",
   "metadata": {},
   "source": [
    "[expression `for` item `in` list (`if` condition)]"
   ]
  },
  {
   "cell_type": "code",
   "execution_count": null,
   "metadata": {},
   "outputs": [],
   "source": [
    "numbers = [x*3 for x in range(10)]\n",
    "numbers"
   ]
  },
  {
   "cell_type": "code",
   "execution_count": null,
   "metadata": {},
   "outputs": [],
   "source": [
    "numbers = [x*3 for x in range(10) if x%2==0]\n",
    "numbers"
   ]
  },
  {
   "cell_type": "code",
   "execution_count": null,
   "metadata": {},
   "outputs": [],
   "source": [
    "a = 'O P E N - S O U R C E'\n",
    "b = [str(x) for x in a.split('-')]\n",
    "b"
   ]
  },
  {
   "cell_type": "code",
   "execution_count": null,
   "metadata": {},
   "outputs": [],
   "source": [
    "a = 'O P E N - S O U R C E'\n",
    "b = [str(x) for x in a.split()]\n",
    "b"
   ]
  },
  {
   "cell_type": "markdown",
   "metadata": {
    "id": "5B_dVFqj0aQV"
   },
   "source": [
    "### Tuple"
   ]
  },
  {
   "cell_type": "markdown",
   "metadata": {
    "id": "HDJFTbWq0aQV"
   },
   "source": [
    "#### Create Tuple\n",
    "( )、tuple()"
   ]
  },
  {
   "cell_type": "code",
   "execution_count": null,
   "metadata": {
    "id": "2vMivPKR0aQV"
   },
   "outputs": [],
   "source": [
    "a_tuple = ()\n",
    "b_tuple = tuple()\n",
    "c_tuple = (1, 'a', 2.3, True)\n",
    "d_tuple = 1, 2, 3, 'a'"
   ]
  },
  {
   "cell_type": "code",
   "execution_count": null,
   "metadata": {
    "colab": {
     "base_uri": "https://localhost:8080/"
    },
    "executionInfo": {
     "elapsed": 687,
     "status": "ok",
     "timestamp": 1619755098501,
     "user": {
      "displayName": "李子儀",
      "photoUrl": "",
      "userId": "04838807742004672802"
     },
     "user_tz": -480
    },
    "id": "cuXZ2u-H0aQW",
    "outputId": "de5f046a-24ab-42ad-91e2-933682b179f8"
   },
   "outputs": [],
   "source": [
    "type(a_tuple)"
   ]
  },
  {
   "cell_type": "markdown",
   "metadata": {},
   "source": [
    "#### Tuple Packing/Unpacking\n"
   ]
  },
  {
   "cell_type": "code",
   "execution_count": null,
   "metadata": {
    "colab": {
     "base_uri": "https://localhost:8080/"
    },
    "executionInfo": {
     "elapsed": 659,
     "status": "ok",
     "timestamp": 1619755100896,
     "user": {
      "displayName": "李子儀",
      "photoUrl": "",
      "userId": "04838807742004672802"
     },
     "user_tz": -480
    },
    "id": "iRuwOXYS0aQW",
    "outputId": "32f66ea5-f312-40b1-b860-6827850e53dc"
   },
   "outputs": [],
   "source": [
    "x, y = 1, 2\n",
    "x, y = y, x\n",
    "print(x, y)"
   ]
  },
  {
   "cell_type": "code",
   "execution_count": null,
   "metadata": {},
   "outputs": [],
   "source": [
    "my_tuple = 1, 2, 3\n",
    "a, b, c = my_tuple\n",
    "print(a, b, c)"
   ]
  },
  {
   "cell_type": "markdown",
   "metadata": {
    "id": "PHLYnskx0aQW"
   },
   "source": [
    "#### Add Value to Tuple"
   ]
  },
  {
   "cell_type": "code",
   "execution_count": null,
   "metadata": {
    "colab": {
     "base_uri": "https://localhost:8080/",
     "height": 165
    },
    "executionInfo": {
     "elapsed": 717,
     "status": "error",
     "timestamp": 1619755103476,
     "user": {
      "displayName": "李子儀",
      "photoUrl": "",
      "userId": "04838807742004672802"
     },
     "user_tz": -480
    },
    "id": "GvF8VVB00aQW",
    "outputId": "f1192f3f-330f-4008-de23-d73dd26704be"
   },
   "outputs": [],
   "source": [
    "a_tuple.add(1)"
   ]
  },
  {
   "cell_type": "code",
   "execution_count": null,
   "metadata": {
    "colab": {
     "base_uri": "https://localhost:8080/",
     "height": 165
    },
    "executionInfo": {
     "elapsed": 1078,
     "status": "error",
     "timestamp": 1619755103838,
     "user": {
      "displayName": "李子儀",
      "photoUrl": "",
      "userId": "04838807742004672802"
     },
     "user_tz": -480
    },
    "id": "rTLDe8FD0aQW",
    "outputId": "a5944c44-7bc5-4073-f14e-b553f55b7924"
   },
   "outputs": [],
   "source": [
    "a_tuple.append(1)"
   ]
  },
  {
   "cell_type": "code",
   "execution_count": null,
   "metadata": {
    "colab": {
     "base_uri": "https://localhost:8080/",
     "height": 165
    },
    "executionInfo": {
     "elapsed": 873,
     "status": "error",
     "timestamp": 1619755118914,
     "user": {
      "displayName": "李子儀",
      "photoUrl": "",
      "userId": "04838807742004672802"
     },
     "user_tz": -480
    },
    "id": "hHQ0ZQ350aQW",
    "outputId": "66cea9cc-cd4f-4e45-f22d-65dd4dcf4c27"
   },
   "outputs": [],
   "source": [
    "a_tuple.extend(1)"
   ]
  },
  {
   "cell_type": "code",
   "execution_count": null,
   "metadata": {
    "colab": {
     "base_uri": "https://localhost:8080/",
     "height": 165
    },
    "executionInfo": {
     "elapsed": 971,
     "status": "error",
     "timestamp": 1619755121972,
     "user": {
      "displayName": "李子儀",
      "photoUrl": "",
      "userId": "04838807742004672802"
     },
     "user_tz": -480
    },
    "id": "3ozUfeSM0aQX",
    "outputId": "b6228caa-461f-4acb-8438-d4c4c458737d"
   },
   "outputs": [],
   "source": [
    "a_tuple.insert(0, 1)"
   ]
  },
  {
   "cell_type": "markdown",
   "metadata": {
    "id": "cHW4C4QO0aQX"
   },
   "source": [
    "#### Modify Value in Tuple"
   ]
  },
  {
   "cell_type": "code",
   "execution_count": null,
   "metadata": {
    "colab": {
     "base_uri": "https://localhost:8080/",
     "height": 182
    },
    "executionInfo": {
     "elapsed": 720,
     "status": "error",
     "timestamp": 1619755131017,
     "user": {
      "displayName": "李子儀",
      "photoUrl": "",
      "userId": "04838807742004672802"
     },
     "user_tz": -480
    },
    "id": "u8_eFBM20aQX",
    "outputId": "c4a87d4a-20d7-49c5-d9c7-fd2b627a02dd"
   },
   "outputs": [],
   "source": [
    "c_tuple[2] = 1"
   ]
  },
  {
   "cell_type": "markdown",
   "metadata": {
    "id": "_l3lULSo0aQX",
    "jp-MarkdownHeadingCollapsed": true
   },
   "source": [
    "#### Delete Value in Tuple\n",
    " - 不允許刪除"
   ]
  },
  {
   "cell_type": "markdown",
   "metadata": {
    "id": "ZZwleobR0aQY"
   },
   "source": [
    "#### Pick Value from Tuple\n",
    "index"
   ]
  },
  {
   "cell_type": "code",
   "execution_count": null,
   "metadata": {},
   "outputs": [],
   "source": [
    "c_tuple"
   ]
  },
  {
   "cell_type": "code",
   "execution_count": null,
   "metadata": {
    "id": "b0vWm_qB0aQY"
   },
   "outputs": [],
   "source": [
    "c_tuple[-2]"
   ]
  },
  {
   "cell_type": "markdown",
   "metadata": {},
   "source": [
    "slice"
   ]
  },
  {
   "cell_type": "code",
   "execution_count": null,
   "metadata": {
    "id": "bXcnWlTT0aQY"
   },
   "outputs": [],
   "source": [
    "c_tuple[:2]"
   ]
  },
  {
   "cell_type": "markdown",
   "metadata": {
    "id": "AjWbCJ4H0aQY"
   },
   "source": [
    "tuple 轉成 list"
   ]
  },
  {
   "cell_type": "code",
   "execution_count": null,
   "metadata": {
    "id": "vyebP6jU0aQY"
   },
   "outputs": [],
   "source": [
    "list(c_tuple)"
   ]
  },
  {
   "cell_type": "markdown",
   "metadata": {
    "id": "b9rBpeF-0aQX",
    "jp-MarkdownHeadingCollapsed": true
   },
   "source": [
    "#### It's your turn🫵\n",
    "用 list 單元介紹過的刪除方法來試試能不能刪除一個 tuple 內的 element，至少試兩種方法。記得輸出的要是 tuple 。"
   ]
  },
  {
   "cell_type": "code",
   "execution_count": null,
   "metadata": {},
   "outputs": [],
   "source": [
    "# 參考解法\n",
    "lab_a = 'SITCON', 'Camp', 2023, 'NYCU'\n",
    "lab_list = list(lab_a)\n",
    "del lab_list[3]\n",
    "\n",
    "lab_a = tuple(lab_list)\n",
    "print(lab_a)"
   ]
  },
  {
   "cell_type": "code",
   "execution_count": null,
   "metadata": {},
   "outputs": [],
   "source": [
    "# 參考解法\n",
    "lab_b = (1, 2, 3, 4, 5)\n",
    "lab_b = tuple([x for x in lab_b if x != 3])\n",
    "print(lab_b)"
   ]
  },
  {
   "cell_type": "markdown",
   "metadata": {
    "jp-MarkdownHeadingCollapsed": true
   },
   "source": [
    "#### It's your turn🫵\n",
    "如何將一句話 '老虎老鼠傻傻分不清楚' 表示成 unigram (一個字一個字分開) 存在 list，請寫出兩種方法。\n",
    "> 範例輸出：\n",
    "```\n",
    "['老', '虎', '老', '鼠', '傻', '傻', '分', '不', '清', '楚']\n",
    "```"
   ]
  },
  {
   "cell_type": "code",
   "execution_count": null,
   "metadata": {},
   "outputs": [],
   "source": [
    "# 參考解法\n",
    "sentence = '老虎老鼠傻傻分不清楚'\n",
    "unigram = []\n",
    "for word in sentence:\n",
    "    unigram.append(word)\n",
    "unigram"
   ]
  },
  {
   "cell_type": "code",
   "execution_count": null,
   "metadata": {},
   "outputs": [],
   "source": [
    "# 參考解法\n",
    "sentence = '老虎老鼠傻傻分不清楚'\n",
    "unigram = []\n",
    "for index in range(len(sentence)):\n",
    "    unigram.append(sentence[index])\n",
    "unigram"
   ]
  },
  {
   "cell_type": "code",
   "execution_count": null,
   "metadata": {},
   "outputs": [],
   "source": [
    "# 參考解法\n",
    "sentence = '老虎老鼠傻傻分不清楚'\n",
    "unigram = list(sentence)\n",
    "unigram"
   ]
  },
  {
   "cell_type": "markdown",
   "metadata": {
    "id": "7vBjjHRZ0aQZ"
   },
   "source": [
    "### Set"
   ]
  },
  {
   "cell_type": "markdown",
   "metadata": {
    "id": "JjG1ZbSe0aQZ"
   },
   "source": [
    "#### Create Set\n",
    "set()"
   ]
  },
  {
   "cell_type": "code",
   "execution_count": null,
   "metadata": {
    "id": "FSwnHSuP0aQZ"
   },
   "outputs": [],
   "source": [
    "a_set = set()\n",
    "b_set = {1,2,3,2}\n",
    "c_set = {1, \"1\"}\n",
    "b_set"
   ]
  },
  {
   "cell_type": "code",
   "execution_count": null,
   "metadata": {
    "id": "Sqfmb4Fb0aQZ"
   },
   "outputs": [],
   "source": [
    "type(a_set)"
   ]
  },
  {
   "cell_type": "markdown",
   "metadata": {
    "id": "6pOBbuKA0aQZ"
   },
   "source": [
    "#### Add Value to Set"
   ]
  },
  {
   "cell_type": "markdown",
   "metadata": {
    "id": "ON30CzcV0aQZ"
   },
   "source": [
    "add()"
   ]
  },
  {
   "cell_type": "code",
   "execution_count": null,
   "metadata": {
    "id": "rtboMdpT0aQa"
   },
   "outputs": [],
   "source": [
    "c_set.add(5)\n",
    "c_set"
   ]
  },
  {
   "cell_type": "markdown",
   "metadata": {
    "id": "QtUXxu7U0aQa"
   },
   "source": [
    "update()"
   ]
  },
  {
   "cell_type": "code",
   "execution_count": null,
   "metadata": {
    "id": "xQoowLvh0aQa"
   },
   "outputs": [],
   "source": [
    "c_set.update(b_set)\n",
    "c_set"
   ]
  },
  {
   "cell_type": "code",
   "execution_count": null,
   "metadata": {
    "id": "2wZw0LOc0aQa"
   },
   "outputs": [],
   "source": [
    "c_set.update([3,6,7])\n",
    "c_set"
   ]
  },
  {
   "cell_type": "markdown",
   "metadata": {
    "id": "feyT0Ghp0aQa"
   },
   "source": [
    "#### Modify Value in Set"
   ]
  },
  {
   "cell_type": "code",
   "execution_count": null,
   "metadata": {
    "id": "zWs39XPk0aQa"
   },
   "outputs": [],
   "source": [
    "c_set[3] = 6"
   ]
  },
  {
   "cell_type": "markdown",
   "metadata": {
    "id": "dwJy9P2b0aQb"
   },
   "source": [
    "#### Delete Value in Set"
   ]
  },
  {
   "cell_type": "markdown",
   "metadata": {
    "id": "PjWxPDA50aQb"
   },
   "source": [
    "remove(element)"
   ]
  },
  {
   "cell_type": "code",
   "execution_count": null,
   "metadata": {
    "id": "jwzwzfmP0aQb"
   },
   "outputs": [],
   "source": [
    "c_set.remove(1)\n",
    "c_set"
   ]
  },
  {
   "cell_type": "code",
   "execution_count": null,
   "metadata": {
    "id": "ag8n75gu0aQb"
   },
   "outputs": [],
   "source": [
    "c_set.remove(10)\n",
    "c_set"
   ]
  },
  {
   "cell_type": "markdown",
   "metadata": {
    "id": "RXKR28Ak0aQb"
   },
   "source": [
    "discard(element)"
   ]
  },
  {
   "cell_type": "code",
   "execution_count": null,
   "metadata": {
    "id": "cYt_RQQK0aQb"
   },
   "outputs": [],
   "source": [
    "c_set.discard(2)\n",
    "c_set"
   ]
  },
  {
   "cell_type": "code",
   "execution_count": null,
   "metadata": {
    "id": "yZLEBl7r0aQb"
   },
   "outputs": [],
   "source": [
    "c_set.discard(10)\n",
    "c_set"
   ]
  },
  {
   "cell_type": "markdown",
   "metadata": {
    "id": "JHi7JW-F0aQc"
   },
   "source": [
    "#### Pick Value from Set"
   ]
  },
  {
   "cell_type": "code",
   "execution_count": null,
   "metadata": {},
   "outputs": [],
   "source": [
    "c_set"
   ]
  },
  {
   "cell_type": "code",
   "execution_count": null,
   "metadata": {
    "id": "Fe9_Srzg0aQc"
   },
   "outputs": [],
   "source": [
    "for element in c_set:\n",
    "    print(element)"
   ]
  },
  {
   "cell_type": "markdown",
   "metadata": {
    "id": "p-eOEPt60aQc",
    "jp-MarkdownHeadingCollapsed": true
   },
   "source": [
    "#### It's your turn🫵\n",
    "如何知道 string 中有那些不重複字\n",
    "```\n",
    "string = '''\n",
    "六合縣有個六十六歲的陸老頭，蓋了六十六間樓，\n",
    "買了六十六簍油，堆在六十六間樓， 栽了六十六株垂楊柳，\n",
    "養了六十六頭牛，扣在六十六株垂楊柳。\n",
    "遇了一陣狂風起，吹倒了六十六間樓，\n",
    "翻了六十六簍油，斷了六十六株垂楊柳，\n",
    "打死了六十六頭牛，急煞了六合縣的六十六歲的陸老頭。'''\n",
    "\n",
    "```"
   ]
  },
  {
   "cell_type": "code",
   "execution_count": null,
   "metadata": {
    "id": "TldT7eNt0aQc"
   },
   "outputs": [],
   "source": [
    "string = '''\n",
    "六合縣有個六十六歲的陸老頭，蓋了六十六間樓，\n",
    "買了六十六簍油，堆在六十六間樓， 栽了六十六株垂楊柳，\n",
    "養了六十六頭牛，扣在六十六株垂楊柳。\n",
    "遇了一陣狂風起，吹倒了六十六間樓，\n",
    "翻了六十六簍油，斷了六十六株垂楊柳，\n",
    "打死了六十六頭牛，急煞了六合縣的六十六歲的陸老頭。'''"
   ]
  },
  {
   "cell_type": "code",
   "execution_count": null,
   "metadata": {
    "id": "Sa_TPUXQ0aQc"
   },
   "outputs": [],
   "source": [
    "#參考解法\n",
    "output_list = []\n",
    "for word in string:\n",
    "    if word not in output_list:\n",
    "        output_list.append(word)\n",
    "output_list"
   ]
  },
  {
   "cell_type": "code",
   "execution_count": null,
   "metadata": {
    "id": "BzvLsc3d0aQc"
   },
   "outputs": [],
   "source": [
    "#參考解法\n",
    "set(string)"
   ]
  },
  {
   "cell_type": "markdown",
   "metadata": {
    "id": "vtCczR2G0aQd"
   },
   "source": [
    "### Dictionary"
   ]
  },
  {
   "cell_type": "markdown",
   "metadata": {
    "id": "cmVTLL7v0aQd"
   },
   "source": [
    "#### Create Dictionary\n",
    "{ }、dict()"
   ]
  },
  {
   "cell_type": "code",
   "execution_count": null,
   "metadata": {
    "id": "xeNP1aMx0aQd"
   },
   "outputs": [],
   "source": [
    "a_dict = {}\n",
    "b_dict = dict()\n",
    "c_dict = {'小明':1, '小英':2, '小瑜':3}"
   ]
  },
  {
   "cell_type": "code",
   "execution_count": null,
   "metadata": {
    "id": "T8mBEdt00aQd"
   },
   "outputs": [],
   "source": [
    "type(a_dict)"
   ]
  },
  {
   "cell_type": "markdown",
   "metadata": {
    "id": "p5MR2T7E0aQd"
   },
   "source": [
    "#### Add Value to Dictionary"
   ]
  },
  {
   "cell_type": "markdown",
   "metadata": {
    "id": "ZgCXzalM0aQd"
   },
   "source": [
    "Dict [key] = value"
   ]
  },
  {
   "cell_type": "code",
   "execution_count": null,
   "metadata": {},
   "outputs": [],
   "source": [
    "c_dict"
   ]
  },
  {
   "cell_type": "code",
   "execution_count": null,
   "metadata": {
    "id": "Fp8OsdW10aQd"
   },
   "outputs": [],
   "source": [
    "c_dict['小強'] = 4\n",
    "c_dict"
   ]
  },
  {
   "cell_type": "markdown",
   "metadata": {
    "id": "OlmFWrBX0aQe"
   },
   "source": [
    "update (Dict)"
   ]
  },
  {
   "cell_type": "code",
   "execution_count": null,
   "metadata": {
    "id": "pbYnPO7N0aQe"
   },
   "outputs": [],
   "source": [
    "c_dict.update({'小台':5})\n",
    "c_dict"
   ]
  },
  {
   "cell_type": "markdown",
   "metadata": {
    "id": "78xyhacB0aQe"
   },
   "source": [
    "#### Modify Value in Dictionary"
   ]
  },
  {
   "cell_type": "markdown",
   "metadata": {
    "id": "45eHCWBI0aQe"
   },
   "source": [
    "Dict [key] = value"
   ]
  },
  {
   "cell_type": "code",
   "execution_count": null,
   "metadata": {
    "id": "PzeMGLmh0aQe"
   },
   "outputs": [],
   "source": [
    "c_dict['小強'] = 5\n",
    "c_dict"
   ]
  },
  {
   "cell_type": "markdown",
   "metadata": {
    "id": "TB9Cp5hI0aQe"
   },
   "source": [
    "update (Dict)"
   ]
  },
  {
   "cell_type": "code",
   "execution_count": null,
   "metadata": {
    "id": "P7R3Kqbq0aQe"
   },
   "outputs": [],
   "source": [
    "c_dict.update({'小台':4, '小王':6})\n",
    "c_dict"
   ]
  },
  {
   "cell_type": "markdown",
   "metadata": {
    "id": "aQgUo9fT0aQf"
   },
   "source": [
    "#### Delete Value in Dictionary"
   ]
  },
  {
   "cell_type": "markdown",
   "metadata": {
    "id": "ucWWz-_B0aQf"
   },
   "source": [
    "pop (key)"
   ]
  },
  {
   "cell_type": "code",
   "execution_count": null,
   "metadata": {
    "id": "cGaT5qwi0aQf"
   },
   "outputs": [],
   "source": [
    "c_dict.pop('小王')\n",
    "c_dict"
   ]
  },
  {
   "cell_type": "markdown",
   "metadata": {
    "id": "oJTExlSP0aQf"
   },
   "source": [
    "del Dict [key]"
   ]
  },
  {
   "cell_type": "code",
   "execution_count": null,
   "metadata": {
    "id": "qAilTW5p0aQf"
   },
   "outputs": [],
   "source": [
    "del c_dict['小王']\n",
    "c_dict"
   ]
  },
  {
   "cell_type": "code",
   "execution_count": null,
   "metadata": {
    "id": "rLJTvQEt0aQf"
   },
   "outputs": [],
   "source": [
    "del c_dict['小台']\n",
    "c_dict"
   ]
  },
  {
   "cell_type": "markdown",
   "metadata": {
    "id": "20ZB6evb0aQf"
   },
   "source": [
    "#### Pick Value from Dictionary"
   ]
  },
  {
   "cell_type": "markdown",
   "metadata": {
    "id": "12RH4juM0aQg"
   },
   "source": [
    "Dict [key]"
   ]
  },
  {
   "cell_type": "code",
   "execution_count": null,
   "metadata": {
    "id": "GVASry0l0aQg"
   },
   "outputs": [],
   "source": [
    "c_dict['小明']"
   ]
  },
  {
   "cell_type": "markdown",
   "metadata": {
    "id": "kNCgnZ2f0aQg"
   },
   "source": [
    "keys()"
   ]
  },
  {
   "cell_type": "code",
   "execution_count": null,
   "metadata": {
    "id": "2iJFm5P10aQg"
   },
   "outputs": [],
   "source": [
    "c_dict.keys()"
   ]
  },
  {
   "cell_type": "code",
   "execution_count": null,
   "metadata": {
    "id": "gRP_0O6y0aQg"
   },
   "outputs": [],
   "source": [
    "type(c_dict.keys())"
   ]
  },
  {
   "cell_type": "code",
   "execution_count": null,
   "metadata": {
    "id": "0EK5_JVg0aQg"
   },
   "outputs": [],
   "source": [
    "list(c_dict.keys())"
   ]
  },
  {
   "cell_type": "code",
   "execution_count": null,
   "metadata": {
    "id": "SbkXIvtN0aQg"
   },
   "outputs": [],
   "source": [
    "for key in c_dict.keys():\n",
    "    print(key)"
   ]
  },
  {
   "cell_type": "markdown",
   "metadata": {
    "id": "n_dmWRdr0aQh"
   },
   "source": [
    "values()"
   ]
  },
  {
   "cell_type": "code",
   "execution_count": null,
   "metadata": {
    "id": "Ihc2yiIa0aQh"
   },
   "outputs": [],
   "source": [
    "c_dict.values()"
   ]
  },
  {
   "cell_type": "code",
   "execution_count": null,
   "metadata": {
    "id": "aMP--cx00aQh"
   },
   "outputs": [],
   "source": [
    "for value in c_dict.values():\n",
    "    print(value)"
   ]
  },
  {
   "cell_type": "markdown",
   "metadata": {
    "id": "TjypFJTh0aQh"
   },
   "source": [
    "items()"
   ]
  },
  {
   "cell_type": "code",
   "execution_count": null,
   "metadata": {
    "id": "5TZ075KW0aQh"
   },
   "outputs": [],
   "source": [
    "c_dict.items()"
   ]
  },
  {
   "cell_type": "code",
   "execution_count": null,
   "metadata": {
    "id": "bZwUfW4j0aQh"
   },
   "outputs": [],
   "source": [
    "for key, value in c_dict.items():\n",
    "    print(f'key 是 {key}, value 是 {value}')"
   ]
  },
  {
   "cell_type": "markdown",
   "metadata": {},
   "source": [
    "#### dict互包"
   ]
  },
  {
   "cell_type": "markdown",
   "metadata": {},
   "source": [
    "Create"
   ]
  },
  {
   "cell_type": "code",
   "execution_count": null,
   "metadata": {},
   "outputs": [],
   "source": [
    "staff = {\n",
    "    \"person1\": {\n",
    "        \"name\": \"Alice\",\n",
    "        \"age\": 25,\n",
    "        \"city\": \"Taipei City\"\n",
    "    },\n",
    "    \"person2\": {\n",
    "        \"name\": \"Bob\",\n",
    "        \"age\": 30,\n",
    "        \"city\": \"San Francisco\"\n",
    "    }\n",
    "}"
   ]
  },
  {
   "cell_type": "markdown",
   "metadata": {},
   "source": [
    "Add"
   ]
  },
  {
   "cell_type": "code",
   "execution_count": null,
   "metadata": {},
   "outputs": [],
   "source": [
    "staff[\"person1\"][\"gender\"] = \"Female\"\n",
    "staff"
   ]
  },
  {
   "cell_type": "markdown",
   "metadata": {},
   "source": [
    "Modify"
   ]
  },
  {
   "cell_type": "code",
   "execution_count": null,
   "metadata": {},
   "outputs": [],
   "source": [
    "staff['person2'][\"age\"] = 23\n",
    "staff"
   ]
  },
  {
   "cell_type": "markdown",
   "metadata": {},
   "source": [
    "Delete"
   ]
  },
  {
   "cell_type": "code",
   "execution_count": null,
   "metadata": {},
   "outputs": [],
   "source": [
    "del staff[\"person2\"][\"city\"]\n",
    "staff"
   ]
  },
  {
   "cell_type": "markdown",
   "metadata": {},
   "source": [
    "Pick"
   ]
  },
  {
   "cell_type": "code",
   "execution_count": null,
   "metadata": {},
   "outputs": [],
   "source": [
    "print(staff[\"person1\"][\"name\"])\n",
    "print(staff[\"person2\"][\"age\"])\n",
    "print(staff[\"person1\"][\"city\"]) \n",
    "print(staff[\"person2\"])"
   ]
  },
  {
   "cell_type": "markdown",
   "metadata": {},
   "source": [
    "補充：list 包 dict"
   ]
  },
  {
   "cell_type": "code",
   "execution_count": null,
   "metadata": {},
   "outputs": [],
   "source": [
    "staff_list = ['haha', 'SITCON', 20.23, 'Camp']\n",
    "staff_list.append(staff)\n",
    "staff_list"
   ]
  },
  {
   "cell_type": "markdown",
   "metadata": {
    "id": "YoY95uh50aQi",
    "jp-MarkdownHeadingCollapsed": true
   },
   "source": [
    "#### It's your turn🫵\n",
    "製作一段文章的字數字典"
   ]
  },
  {
   "cell_type": "code",
   "execution_count": null,
   "metadata": {
    "id": "w9wjoCf40aQi"
   },
   "outputs": [],
   "source": [
    "# 魔戒三部曲，電影劇情簡介\n",
    "paragraph = '''\n",
    "\t魔戒現身\t編輯\n",
    "凱蘭崔爾敍述的序言講及索倫鑄造至尊魔戒以圖征服中土大陸，人類及精靈組成聯盟發動最後同盟戰役推翻了索倫。至尊魔戒落入埃西鐸手中。埃西鐸後來被半獸人所殺，至尊魔戒失落，在數千年後才被哈比人史麥戈所獲，因受魔戒的影響，史麥戈成為咕嚕。至尊魔戒急欲返回它的主人索倫手裡，於是離棄咕嚕，被哈比人比爾博·巴金斯所獲。\n",
    "\n",
    "在比爾博111歲生日當天，比爾博將至尊魔戒讓給堂姪佛羅多·巴金斯。比爾博好友甘道夫經過探查後發現那就是失落的至尊魔戒，由於索倫急欲取得至尊魔戒，甘道夫囑咐佛羅多要儘速帶同魔戒離開夏爾。甘道夫趕往艾辛格與巫師的首領薩魯曼商討對策，薩魯曼透露索倫已派出戒靈奪取魔戒，認為中土自由子民無從抵抗，並邀請甘道夫和他一起加入索倫陣營。甘道夫拒絕，薩魯曼遂將甘道夫囚禁在歐散克塔。\n",
    "\n",
    "佛羅多和夥伴山姆在趕往布理途中遇到皮聘及梅里。他們在布理遇到神行客，神行客亞拉岡帶領他們趕往瑞文戴爾。他們在風雲頂被戒靈襲擊，佛羅多被戒靈刺傷，生命危在旦夕。女精靈亞玟帶同佛羅多趕往瑞文戴爾，亞玟的父親愛隆救治了佛羅多。\n",
    "\n",
    "愛隆召開會議商討至尊魔戒的事情。唯一摧毀至尊魔戒的方法就是將它丟進末日火山的火燄裡。佛羅多自願執行這個任務，其哈比人夥伴、甘道夫、亞拉岡、精靈勒苟拉斯、矮人金靂及剛鐸大將波羅莫都加入，組成魔戒遠征隊。他們原本計劃攀越卡蘭拉斯山，但受薩魯曼阻撓。魔戒遠征隊遂穿越摩瑞亞礦坑，他們在礦坑內受到半獸人、食人妖及炎魔的襲擊。甘道夫阻擊炎魔，雙雙墮入深淵。\n",
    "\n",
    "失去甘道夫的魔戒遠征隊趕往羅斯洛立安謁見女王凱蘭崔爾。整頓以後，眾人沿安都因河朝帕斯加蘭進發。波羅莫急切於利用魔戒拯救剛鐸，於是嘗試從佛羅多手中奪取魔戒。佛羅多有感於魔戒的誘惑力驚人，於是決定獨自前往魔多。此時，魔戒遠征隊受到薩魯曼的強獸人襲擊，後悔行為魯莽的波羅莫為了保護梅里及皮聘而受重傷，梅里及皮聘被強獸人擄走。亞拉岡原諒了波羅莫，波羅莫在死前終承認了亞拉岡是他的國王。亞拉岡、勒苟拉斯及金靂為了營救梅里及皮聘而追蹤強獸人。另一方面，佛羅多向北而行，渡過安都因河，尾隨而至的山姆誓死追隨佛羅多。\n",
    "\n",
    "雙城奇謀\t編輯\n",
    "電影開首呼應首部曲，甘道夫在摩瑞亞的橋上與炎魔對峙，甘道夫與炎魔墜落深淵。佛羅多從夢境中醒過來，與山姆繼續行程，他們被希望奪回魔戒的咕嚕襲擊，佛羅多及山姆制伏了他，佛羅多正需要一名嚮導引領他們前往魔多，於是讓他引路。\n",
    "\n",
    "在洛汗，薩魯曼那一支擄走梅里及皮聘的強獸人橫過草原向艾辛格進發，勒苟拉斯、金靂及亞拉岡尾隨追蹤。薩魯曼亦在洛汗國王身邊安插了葛力馬·巧言控制著希優頓。薩魯曼聚集大軍展開攻勢，沿途燒殺破壞，希優頓的兒子希優德戰死。希優頓之甥伊歐墨責難葛力馬，反被葛力馬驅逐，伊歐墨聚集了一些忠實的部下離去。\n",
    "\n",
    "佛羅多及山姆橫過死亡沼澤，一路上躲避戒靈的空中游戈，終於抵達黑門。黑門被重兵駐守，佛羅多及山姆兩人束手無策，咕嚕建議他們透過另一條秘密的階梯潛入魔多。同時，被驅逐的伊歐墨領導騎兵在法貢森林附近殲滅了梅里及皮聘所在的那一支強獸人，梅里及皮聘逃進法貢森林，並遇到樹鬍。\n",
    "\n",
    "勒苟拉斯、金靂及亞拉岡遭遇伊歐墨，得知梅里及皮聘生還機會渺茫，亞拉岡仔細查察之下發現梅里及皮聘進入了法貢森林，亦尾隨進入，他們在森林裡遇到白袍巫師，發現竟是重生的甘道夫。他們聯袂來到洛汗都城伊多拉斯，消除了薩魯曼對希優頓的控制，驅逐葛力馬。恢復自我的希優頓得知薩魯曼的威脅後決定將洛汗人民撤至要塞聖盔谷。甘道夫深明以洛汗的現有兵力堅守聖盔谷也不能抵擋薩魯曼的大軍，於是出發前往尋找伊歐墨。\n",
    "\n",
    "佛羅多、山姆及咕嚕目擊剛鐸軍隊伏擊一支南方人，佛羅多及山姆被剛鐸軍隊擒獲。洛汗人在撤往聖盔谷途中遭遇薩魯曼的狼騎士襲擊，亞拉岡墜落峭壁失蹤。在瑞文戴爾，亞拉岡的戀人亞玟在父親的勸說下出發，準備離開中土大陸。\n",
    "\n",
    "佛羅多及山姆被帶到漢那斯安南，剛鐸大將法拉墨得悉佛羅多持有魔戒，為了向父親證明他的價值，他決定將佛羅多及至尊魔戒帶到剛鐸。亞拉岡抵達聖盔谷，準備迎戰薩魯曼，一支受愛隆所命的精靈部隊亦赴援。法貢森林的樹鬍召開樹人會議，商討是否應介入戰爭。\n",
    "\n",
    "聖盔谷之戰在大雨下展開，洛汗戰士奮力抵擋。樹人會議最終決定不介入戰爭，皮聘誘導樹鬍將他們帶到南面，樹鬍發現法貢森林南部的林木被薩魯曼砍伐用作燃料，樹鬍震怒，遂帶領樹人報復。\n",
    "\n",
    "洛汗一方的形勢急轉直下，亞拉岡等人帶領守軍進行最後的衝鋒，清晨時分，甘道夫引領援軍抵達戰場，擊敗了強獸人大軍。樹人亦控制了艾辛格。法拉墨等人到達奧斯吉力亞斯，該處正在進行戰鬥，法拉墨得悉佛羅多等人的任務，決定釋放他們。咕嚕感到被佛羅多背叛，於是引導兩名哈比人前往「她」那裡。\n",
    "\n",
    "王者再臨\t編輯\n",
    "電影開始時講述哈比人德戈及史麥戈發現魔戒的過程，史麥戈殺死德戈並奪取魔戒，從此隱匿深山裡。\n",
    "\n",
    "返回現在，亞拉岡等人來到艾辛格，會合梅里及皮聘，薩魯曼想告知甘道夫魔多的事情時，被葛力馬‧巧言從後偷襲，跌下塔底死亡，真知晶球從袍內流出，皮聘拾起了薩魯曼的真知晶球，但被甘道夫取去。希優頓在返回伊多拉斯後舉行慶典。佛羅多等人逐漸靠近魔多，咕嚕的陰謀面也逐漸呈現，他計劃引導哈比人到西力斯昂哥，讓屍羅殺死他們，他便可獲得魔戒，又開始離間佛羅多與山姆。\n",
    "\n",
    "出於好奇的皮聘偷看真知晶球，他看到燃燒中的聖白樹，索倫透過心靈接觸拷問皮聘。甘道夫以此推斷索倫準備進攻米那斯提力斯，於是攜同皮聘趕往警示剛鐸攝政王迪耐瑟二世。前往灰港岸路上的亞玟預見了她和亞拉岡的兒子，她返回瑞文戴爾說服父親，又讓父親重鑄納希爾聖劍。\n",
    "\n",
    "甘道夫及皮聘到達米那斯提力斯，謁見因波羅莫之死而悲傷的迪耐瑟二世。皮聘向迪耐瑟效忠以回報波羅莫的犠牲，悲傷的迪耐瑟無意採取任何措施回應索倫的行動。佛羅多等人路經米那斯魔窟附近，目睹安格馬巫王派遣軍隊出擊的情況。甘道夫指示皮聘燃點烽火台向洛汗求援。\n",
    "\n",
    "魔多大軍渡過安都因河向剛鐸控制的奧斯吉力亞斯進攻，以法拉墨為首的剛鐸守軍大敗，撤返米那斯提力斯。敗軍被戒靈追擊，甘道夫營救他們，法拉墨向甘道夫透露了佛羅多等人的情況。\n",
    "\n",
    "攻克奧斯吉力亞斯後，安格馬巫王下令要殺絕米那斯提力斯的人類。迪耐瑟不滿法拉墨棄守奧斯吉力亞斯，要他不惜一切代價奪回奧斯吉力亞斯。咕嚕繼續離間佛羅多及山姆，終使佛羅多趕走山姆。\n",
    "\n",
    "法拉墨的自殺式攻勢全軍覆沒，他本人亦重創而回。同時，愛隆趕來會面亞拉岡，奉上納希爾聖劍，並促請亞拉岡以此劍召喚登哈洛的亡者參戰，亞拉岡遂聯同金靂、勒苟拉斯連夜出發。一直傾慕亞拉岡的洛汗王女伊歐玟懇求亞拉岡留下來，亞拉岡從愛隆口中得知亞玟為了他放棄了精靈的永生，拒絕了伊歐玟。翌晨，希優頓領導六千騎兵赴援，伊歐玟及梅里亦暗中混入軍隊。\n",
    "\n",
    "魔多大軍開始圍攻米那斯提力斯，迪耐瑟誤以為重傷的法拉墨已離世，絕望及失去子嗣打垮了迪耐瑟，他下令剛鐸守軍放棄抵抗，甘道夫制伏了他，並指揮作戰。咕嚕引領佛羅多來到屍羅巢穴，佛羅多被屍羅的毒針所傷，山姆趕到，並擊退屍羅。山姆誤以為佛羅多已死，昏迷的佛羅多被半獸人帶走。\n",
    "\n",
    "魔多大軍擊破了城門，守軍不支退守內城。此時，洛汗援軍抵達一度擊潰了魔多大軍，但隨著南方人的增援，魔多大軍在猛瑪的掩護下再次集結兵力。安格馬巫王重創希優頓，伊歐玟為了保護國王挺身與安格馬巫王對峙，亦被重創，梅里在危急關頭介入，與伊歐玟聯手殺死安格馬巫王。亞拉岡透過海盜船帶領著亡者軍隊抵達，擊敗魔多軍隊。希優頓傷重逝世。亡者軍隊在履行了諾言後，亞拉岡將他們釋放，亡靈隨風而去。西力斯昂哥的守軍因佛羅多的一件秘銀甲衣而爆發內鬨，大部分半獸人守軍都死於這次衝突，山姆得以營救佛羅多，兩人向末日火山進發。\n",
    "\n",
    "甘道夫得知一萬魔多士兵集結在西力斯昂哥與末日火山之間，堵住了佛羅多的去路。亞拉岡提議率領部隊開赴黑門以吸引索倫的注意力。\n",
    "\n",
    "山姆及佛羅多即將抵達目的地，咕嚕在此時現身並襲擊兩人。佛羅多最終在末日火山被至尊魔戒控制，他戴上了魔戒將之據為己有，咕嚕上前搶奪魔戒，咬斷了佛羅多的手指，咕嚕得到魔戒後非常興奮，佛羅多上前糾纏，兩人在懸崖失足。佛羅多幸得山姆解救，咕嚕與至尊魔戒都被熾熱的熔岩摧毀。力量與至尊魔戒相連的索倫終告失敗，永遠失去了力量。正在黑門前作戰的半獸人及戒靈亦受到牽連。\n",
    "\n",
    "末日火山爆發，正當介佛羅多及山姆都以為他們沒法再看見夏爾時，甘道夫與巨鷹拯救了他們。除了波羅莫外，魔戒遠征隊在米那斯提力斯團圓。亞拉岡被加冕為剛鐸國王，並再會亞玟。哈比人返回家鄉，山姆迎娶小玫·卡頓，佛羅多續作了西境紅皮書，他仍受到魔戒影響，他知道他無法在中土大陸平穩地生活，於是決定與甘道夫、比爾博、愛隆、凱蘭崔爾前往灰港岸，乘上離開中土大陸的船隻。山姆、皮聘及梅里各自回家，山姆最終以一句「我回來了」作終。\n",
    "'''\n",
    "\n",
    "# refer to https://zh.m.wikipedia.org/zh-tw/%E9%AD%94%E6%88%92%E9%9B%BB%E5%BD%B1%E4%B8%89%E9%83%A8%E6%9B%B2"
   ]
  },
  {
   "cell_type": "markdown",
   "metadata": {
    "id": "oZWTdLHx0aQi"
   },
   "source": [
    "1. 請將 paragraph 變成 unigram"
   ]
  },
  {
   "cell_type": "code",
   "execution_count": null,
   "metadata": {
    "id": "P934V5lp0aQj"
   },
   "outputs": [],
   "source": [
    "#參考解法\n",
    "ring_list = []\n",
    "for words in paragraph:\n",
    "    ring_list.append(words)\n",
    "print(ring_list)"
   ]
  },
  {
   "cell_type": "markdown",
   "metadata": {
    "id": "cEAuHMaJ0aQj"
   },
   "source": [
    "2. 請找出 paragraph 有那些不重複字"
   ]
  },
  {
   "cell_type": "code",
   "execution_count": null,
   "metadata": {
    "id": "UIrk_Vv_0aQj"
   },
   "outputs": [],
   "source": [
    "#參考解法\n",
    "ring_set = set(ring_list)\n",
    "print(ring_set)"
   ]
  },
  {
   "cell_type": "markdown",
   "metadata": {
    "id": "wT3i49KY0aQj"
   },
   "source": [
    "3. 請計算每個不重複字在 paragraph 中出現幾次，並存成 Dictionary"
   ]
  },
  {
   "cell_type": "code",
   "execution_count": null,
   "metadata": {
    "id": "vBrF3MuH0aQj"
   },
   "outputs": [],
   "source": [
    "#參考解法\n",
    "ring_dict = {}\n",
    "for find in ring_set:\n",
    "    text = ring_list.count(find)\n",
    "    ring_dict[find] = text\n",
    "print(ring_dict)"
   ]
  },
  {
   "cell_type": "markdown",
   "metadata": {
    "id": "VYS3LAXC0aQj"
   },
   "source": [
    "4. 上題的 Dictionary 中出現最多次數的前 10 名是哪些字？各有多少次？\n",
    "\n",
    "* hint: 使用 sorted, 參考[Sorting HOW TO](https://docs.python.org/3/howto/sorting.html)"
   ]
  },
  {
   "cell_type": "code",
   "execution_count": null,
   "metadata": {
    "id": "AgpxLnOk0aQj"
   },
   "outputs": [],
   "source": [
    "#參考解法\n",
    "n = 1\n",
    "for key, value in sorted(ring_dict.items(), key = lambda x:x[1], reverse = True)[0:10]:\n",
    "    print(f'第{n}名的字是:{key}, 共有{value}字')\n",
    "    n += 1\n",
    "\n",
    "#第6名是:\\n(以致於output時換行)"
   ]
  },
  {
   "cell_type": "markdown",
   "metadata": {
    "jp-MarkdownHeadingCollapsed": true
   },
   "source": [
    "#### It's your turn🫵\n",
    "寫一個程式，找出你的電話號碼中最大，最小的正整數（不含0）。\n",
    "> 範例輸入：\n",
    "```\n",
    "id = '41341017'\n",
    "```\n",
    "> 範例輸出：\n",
    "```\n",
    "Max:7\r\n",
    "Min:1"
   ]
  },
  {
   "cell_type": "code",
   "execution_count": null,
   "metadata": {},
   "outputs": [],
   "source": [
    "# 參考解法\n",
    "id = '41341017'\n",
    "idlist = list(id)\n",
    "zero = idlist.count('0')\n",
    "for i in range(zero):\n",
    "    idlist.remove('0')\n",
    "    \n",
    "print(f'Max:{max(idlist)}')\n",
    "print(f'Min:{min(idlist)}')"
   ]
  },
  {
   "cell_type": "code",
   "execution_count": null,
   "metadata": {},
   "outputs": [],
   "source": [
    "# 參考解法\n",
    "id = '41341017'\n",
    "idlist = list(id)\n",
    "while '0' in idlist:\n",
    "    idlist.remove('0')\n",
    "    \n",
    "print(f'Max:{max(idlist)}')\n",
    "print(f'Min:{min(idlist)}')"
   ]
  },
  {
   "cell_type": "markdown",
   "metadata": {
    "jp-MarkdownHeadingCollapsed": true
   },
   "source": [
    "#### It's your turn🫵\n",
    "如果將一組序號的數字兩兩一組依序取出，找出這組序號中最大，最小的正整數（不含0）。譬如 23034008 中，\"23, 30, 3, 34, 40, 8\" 最大的是 40, 最小的是 3。\n",
    "> 範例輸入：\n",
    "```\n",
    "id = '4134100570745000223'\n",
    "```\n",
    "> 範例輸出：\n",
    "```\n",
    "Max: 74\r\n",
    "Min: 2"
   ]
  },
  {
   "cell_type": "code",
   "execution_count": null,
   "metadata": {},
   "outputs": [],
   "source": [
    "# 參考解法\n",
    "id = '4134100570745000223'\n",
    "sep = []\n",
    "for i in range(len(id)-1):\n",
    "    if id[i] == '0' and id[i+1] == '0':\n",
    "        pass\n",
    "    elif id[i] == '0':\n",
    "        sep.append(int(id[i+1]))\n",
    "    else:\n",
    "        sep.append(int(id[i:i+2]))\n",
    "\n",
    "print(f'Max: {max(sep)}')\n",
    "print(f'Min: {min(sep)}')"
   ]
  },
  {
   "cell_type": "markdown",
   "metadata": {},
   "source": [
    "#### It's your turn🫵\n",
    "name = '一二三'<br>\n",
    "id = 'o123456789'<br>\n",
    "寫一個程式，利用 list, insert or append or extend 等方法，印出 'o12一345二678三9'\n"
   ]
  },
  {
   "cell_type": "code",
   "execution_count": null,
   "metadata": {},
   "outputs": [],
   "source": [
    "# 參考解法\n",
    "name = '一二三'\n",
    "id = 'o123456789'\n",
    "\n",
    "name_list = list(name)\n",
    "id_list = list(id)\n",
    "\n",
    "for i in range(len(name_list)):\n",
    "    id_list.insert((i+1)*3+i, name_list[i])\n",
    "\n",
    "result = ''.join(id_list)\n",
    "\n",
    "print(result)"
   ]
  },
  {
   "cell_type": "markdown",
   "metadata": {},
   "source": [
    "---"
   ]
  },
  {
   "cell_type": "markdown",
   "metadata": {},
   "source": [
    "#### Dict 實作舉例 - affine cipher 求解\n",
    "For each letter of cipher text its position in  the alphabet is the position of the original letter multipied by 4 and shifted by 15 character.\r\n",
    "\r\n",
    "Alphabet consists of letters from 'a' to 'z' and symbol '_'.\r\n",
    "\r\n",
    "Shift over alphabet is cyclic.\r\n",
    "\r\n",
    "Letter 'a' has position 0, symbol '_' has position 26.\r\n",
    "\r\n",
    "密文：ifpmluglesecdlqp_rclfseljpkq\r\n"
   ]
  },
  {
   "cell_type": "code",
   "execution_count": null,
   "metadata": {},
   "outputs": [],
   "source": [
    "import string \n",
    "\n",
    "# 產出指定 alphabet\n",
    "s = string.ascii_lowercase # a-z \n",
    "s += '_'\n",
    "\n",
    "# dict 解密轉換表\n",
    "d = {} \n",
    "\n",
    "for c in range(len(s)): \n",
    "      d[s[(c*4 + 15) % 27]] = s[c] \n",
    "\n",
    "# 使用 dict 解密轉換表逐字解出答案\n",
    "ciphertext = 'ifpmluglesecdlqp_rclfrseljpkq' \n",
    "s1 = '' \n",
    "\n",
    "for x in ciphertext : \n",
    "     s1 += d[x] \n",
    "\n",
    "# 印出答案\n",
    "print(s1)"
   ]
  },
  {
   "cell_type": "markdown",
   "metadata": {
    "id": "j6jg5Tx20aQi"
   },
   "source": [
    "### Recap"
   ]
  }
 ],
 "metadata": {
  "celltoolbar": "Slideshow",
  "colab": {
   "name": "Lab2_Data_Structure_and_Function_STUDENTID_NAME_DATE.ipynb",
   "provenance": []
  },
  "kernelspec": {
   "display_name": "Python 3 (ipykernel)",
   "language": "python",
   "name": "python3"
  },
  "language_info": {
   "codemirror_mode": {
    "name": "ipython",
    "version": 3
   },
   "file_extension": ".py",
   "mimetype": "text/x-python",
   "name": "python",
   "nbconvert_exporter": "python",
   "pygments_lexer": "ipython3",
   "version": "3.10.5"
  }
 },
 "nbformat": 4,
 "nbformat_minor": 4
}
